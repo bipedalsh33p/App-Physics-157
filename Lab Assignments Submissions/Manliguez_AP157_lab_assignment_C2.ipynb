{
  "nbformat": 4,
  "nbformat_minor": 0,
  "metadata": {
    "colab": {
      "provenance": []
    },
    "kernelspec": {
      "name": "python3",
      "display_name": "Python 3"
    },
    "language_info": {
      "name": "python"
    }
  },
  "cells": [
    {
      "cell_type": "markdown",
      "source": [
        "# **AP157 Module C Lab Assignment**\n",
        "\n",
        "## Module C2: Monte Carlo Methods\n",
        "\n",
        "_Instructions_: Answer each part of the assignment as completely as you can. Discuss **all** your code and results as clearly and concisely as possible.\n",
        "\n",
        "_Scoring Criteria_: 50% - *correctness of code*; 50% - *discussion of the code and results*. Maximum score is **100 points**.\n",
        "\n",
        "_Credits_: This lab assignment is based on work by Dr. Reyes in collaboration with Gene Belinario and Dr. Reginald Bernardo."
      ],
      "metadata": {
        "id": "8u3wdhYhX6GF"
      }
    },
    {
      "cell_type": "markdown",
      "source": [
        "### Student Information\n",
        "\n",
        "_Full Name (Last Name, First Name)_: Manliguez, Sean Arthur \\\n",
        "_Student No._: 2020-07582 \\\n",
        "_Section_: TX - 1"
      ],
      "metadata": {
        "id": "x6QU0eeNYseY"
      }
    },
    {
      "cell_type": "markdown",
      "source": [
        "### Submission Information\n",
        "\n",
        "_Date and Time Submitted (most recent upload)_: May 23, 2024 11:30 PM\n",
        "\n",
        "**HONOR PLEDGE** I affirm that I have upheld the highest principles of honesty and integrity in my academic work and that this lab assignment is my own work.\n",
        "\n",
        "**Sign here with your full name:** SEAN ARTHUR C. MANLIGUEZ"
      ],
      "metadata": {
        "id": "GzwlHlFwYtbv"
      }
    },
    {
      "cell_type": "markdown",
      "source": [
        "### Grading Information (c/o Instructor)\n",
        "\n",
        "TOTAL SCORE: **[]**/100\n",
        "\n",
        "Score breakdown:\n",
        "* Part 1 - []/20\n",
        "* Part 2 - []/20\n",
        "* Part 3 - []/30\n",
        "* Part 4 - []/30\n",
        "\n",
        "_Date and Time Scored (MM/DD/YYYY HH:MM AM/PM):_"
      ],
      "metadata": {
        "id": "1as4IpTFYxfx"
      }
    },
    {
      "cell_type": "markdown",
      "source": [
        "In this lab assignment, you will generate constraints on cosmological parameters, the Hubble parameter H_0 and matter density Omega_m,0, from (synthetic) Hubble diagram data points from gravitational-wave (GW) sirens observed from 3 GW observatories: LIGO, LISA, and Einstein Telescope (ET).\n",
        "\n",
        "The datasets are in the Google Drive \"Datasets\" Folder under \"AP157_moduleC2\" subfolder: https://drive.google.com/drive/folders/1UnK1AggxdsjtG3PoOcyXfpahBcWjOBzj?usp=drive_link.\n",
        "\n",
        "Read in the 3 datasets from the CSV files: LIGO.csv, LISA.csv, ET.csv. The columns are redshift (z), luminosity distance (dL), and error in the luminosity distance (err). The distances are in units of Gpc (giga-parsecs).\n",
        "\n",
        "Load the data into variable names: zLIGO, dLLIGO, errLIGO, zLISA, dLLISA, errLISA, and zET, dLET, and errET, respectively. Note that these variable names will be used in later parts of the code, so you have to use these names for compatibility."
      ],
      "metadata": {
        "id": "PB0N2FuuY3RU"
      }
    },
    {
      "cell_type": "code",
      "source": [
        "import numpy as np\n",
        "import pandas as pd\n",
        "from google.colab import drive\n",
        "drive.mount(\"/content/drive\")"
      ],
      "metadata": {
        "id": "wWNT09i67_zg",
        "colab": {
          "base_uri": "https://localhost:8080/"
        },
        "outputId": "57271e84-09d5-4e81-a6e6-6831a2693192"
      },
      "execution_count": null,
      "outputs": [
        {
          "output_type": "stream",
          "name": "stdout",
          "text": [
            "Drive already mounted at /content/drive; to attempt to forcibly remount, call drive.mount(\"/content/drive\", force_remount=True).\n"
          ]
        }
      ]
    },
    {
      "cell_type": "code",
      "source": [
        "file_path = \"/content/drive/My Drive/AP157/Datasets/\""
      ],
      "metadata": {
        "id": "3F1rROjRk-su"
      },
      "execution_count": null,
      "outputs": []
    },
    {
      "cell_type": "code",
      "source": [
        "LIGO = pd.read_csv(file_path + \"LIGO.csv\")\n",
        "LISA = pd.read_csv(file_path + \"LISA.csv\")\n",
        "ET = pd.read_csv(file_path + \"ET.csv\")"
      ],
      "metadata": {
        "id": "NTXy5PSelBSo"
      },
      "execution_count": null,
      "outputs": []
    },
    {
      "cell_type": "markdown",
      "source": [
        "By the end of the lab assignment, you will generate constraints on the cosmological parameters H_0 and omega_m,0 for 3 samples: LIGO only, LIGO+LISA, and LIGO+LISA+ET (combined). You will generate a corner plot to visualize these constraints similar to the figure here: https://drive.google.com/file/d/18H7GPlox4ijS9qFbk1rHo-NW5N_Nsfer/view?usp=drive_link"
      ],
      "metadata": {
        "id": "Xz28sa5B9mpx"
      }
    },
    {
      "cell_type": "code",
      "source": [
        "display(LIGO)"
      ],
      "metadata": {
        "colab": {
          "base_uri": "https://localhost:8080/",
          "height": 424
        },
        "id": "MuEHYC39l_pz",
        "outputId": "29424c65-325c-4e0b-9173-6df8c054388f"
      },
      "execution_count": null,
      "outputs": [
        {
          "output_type": "display_data",
          "data": {
            "text/plain": [
              "       zLIGO    dlLIGO   errLIGO\n",
              "0   0.033270  0.101250  0.026146\n",
              "1   0.106210  0.698621  0.137968\n",
              "2   0.073820  0.338016  0.067550\n",
              "3   0.047333  0.206075  0.034506\n",
              "4   0.113966  0.401371  0.159718\n",
              "..       ...       ...       ...\n",
              "95  0.140751  0.607664  0.249926\n",
              "96  0.170735  1.064420  0.380081\n",
              "97  0.073560  0.278404  0.067117\n",
              "98  0.113640  0.456064  0.158766\n",
              "99  0.030374  0.081270  0.025129\n",
              "\n",
              "[100 rows x 3 columns]"
            ],
            "text/html": [
              "\n",
              "  <div id=\"df-70fbee77-f226-44d7-bc53-46363da5c44e\" class=\"colab-df-container\">\n",
              "    <div>\n",
              "<style scoped>\n",
              "    .dataframe tbody tr th:only-of-type {\n",
              "        vertical-align: middle;\n",
              "    }\n",
              "\n",
              "    .dataframe tbody tr th {\n",
              "        vertical-align: top;\n",
              "    }\n",
              "\n",
              "    .dataframe thead th {\n",
              "        text-align: right;\n",
              "    }\n",
              "</style>\n",
              "<table border=\"1\" class=\"dataframe\">\n",
              "  <thead>\n",
              "    <tr style=\"text-align: right;\">\n",
              "      <th></th>\n",
              "      <th>zLIGO</th>\n",
              "      <th>dlLIGO</th>\n",
              "      <th>errLIGO</th>\n",
              "    </tr>\n",
              "  </thead>\n",
              "  <tbody>\n",
              "    <tr>\n",
              "      <th>0</th>\n",
              "      <td>0.033270</td>\n",
              "      <td>0.101250</td>\n",
              "      <td>0.026146</td>\n",
              "    </tr>\n",
              "    <tr>\n",
              "      <th>1</th>\n",
              "      <td>0.106210</td>\n",
              "      <td>0.698621</td>\n",
              "      <td>0.137968</td>\n",
              "    </tr>\n",
              "    <tr>\n",
              "      <th>2</th>\n",
              "      <td>0.073820</td>\n",
              "      <td>0.338016</td>\n",
              "      <td>0.067550</td>\n",
              "    </tr>\n",
              "    <tr>\n",
              "      <th>3</th>\n",
              "      <td>0.047333</td>\n",
              "      <td>0.206075</td>\n",
              "      <td>0.034506</td>\n",
              "    </tr>\n",
              "    <tr>\n",
              "      <th>4</th>\n",
              "      <td>0.113966</td>\n",
              "      <td>0.401371</td>\n",
              "      <td>0.159718</td>\n",
              "    </tr>\n",
              "    <tr>\n",
              "      <th>...</th>\n",
              "      <td>...</td>\n",
              "      <td>...</td>\n",
              "      <td>...</td>\n",
              "    </tr>\n",
              "    <tr>\n",
              "      <th>95</th>\n",
              "      <td>0.140751</td>\n",
              "      <td>0.607664</td>\n",
              "      <td>0.249926</td>\n",
              "    </tr>\n",
              "    <tr>\n",
              "      <th>96</th>\n",
              "      <td>0.170735</td>\n",
              "      <td>1.064420</td>\n",
              "      <td>0.380081</td>\n",
              "    </tr>\n",
              "    <tr>\n",
              "      <th>97</th>\n",
              "      <td>0.073560</td>\n",
              "      <td>0.278404</td>\n",
              "      <td>0.067117</td>\n",
              "    </tr>\n",
              "    <tr>\n",
              "      <th>98</th>\n",
              "      <td>0.113640</td>\n",
              "      <td>0.456064</td>\n",
              "      <td>0.158766</td>\n",
              "    </tr>\n",
              "    <tr>\n",
              "      <th>99</th>\n",
              "      <td>0.030374</td>\n",
              "      <td>0.081270</td>\n",
              "      <td>0.025129</td>\n",
              "    </tr>\n",
              "  </tbody>\n",
              "</table>\n",
              "<p>100 rows × 3 columns</p>\n",
              "</div>\n",
              "    <div class=\"colab-df-buttons\">\n",
              "\n",
              "  <div class=\"colab-df-container\">\n",
              "    <button class=\"colab-df-convert\" onclick=\"convertToInteractive('df-70fbee77-f226-44d7-bc53-46363da5c44e')\"\n",
              "            title=\"Convert this dataframe to an interactive table.\"\n",
              "            style=\"display:none;\">\n",
              "\n",
              "  <svg xmlns=\"http://www.w3.org/2000/svg\" height=\"24px\" viewBox=\"0 -960 960 960\">\n",
              "    <path d=\"M120-120v-720h720v720H120Zm60-500h600v-160H180v160Zm220 220h160v-160H400v160Zm0 220h160v-160H400v160ZM180-400h160v-160H180v160Zm440 0h160v-160H620v160ZM180-180h160v-160H180v160Zm440 0h160v-160H620v160Z\"/>\n",
              "  </svg>\n",
              "    </button>\n",
              "\n",
              "  <style>\n",
              "    .colab-df-container {\n",
              "      display:flex;\n",
              "      gap: 12px;\n",
              "    }\n",
              "\n",
              "    .colab-df-convert {\n",
              "      background-color: #E8F0FE;\n",
              "      border: none;\n",
              "      border-radius: 50%;\n",
              "      cursor: pointer;\n",
              "      display: none;\n",
              "      fill: #1967D2;\n",
              "      height: 32px;\n",
              "      padding: 0 0 0 0;\n",
              "      width: 32px;\n",
              "    }\n",
              "\n",
              "    .colab-df-convert:hover {\n",
              "      background-color: #E2EBFA;\n",
              "      box-shadow: 0px 1px 2px rgba(60, 64, 67, 0.3), 0px 1px 3px 1px rgba(60, 64, 67, 0.15);\n",
              "      fill: #174EA6;\n",
              "    }\n",
              "\n",
              "    .colab-df-buttons div {\n",
              "      margin-bottom: 4px;\n",
              "    }\n",
              "\n",
              "    [theme=dark] .colab-df-convert {\n",
              "      background-color: #3B4455;\n",
              "      fill: #D2E3FC;\n",
              "    }\n",
              "\n",
              "    [theme=dark] .colab-df-convert:hover {\n",
              "      background-color: #434B5C;\n",
              "      box-shadow: 0px 1px 3px 1px rgba(0, 0, 0, 0.15);\n",
              "      filter: drop-shadow(0px 1px 2px rgba(0, 0, 0, 0.3));\n",
              "      fill: #FFFFFF;\n",
              "    }\n",
              "  </style>\n",
              "\n",
              "    <script>\n",
              "      const buttonEl =\n",
              "        document.querySelector('#df-70fbee77-f226-44d7-bc53-46363da5c44e button.colab-df-convert');\n",
              "      buttonEl.style.display =\n",
              "        google.colab.kernel.accessAllowed ? 'block' : 'none';\n",
              "\n",
              "      async function convertToInteractive(key) {\n",
              "        const element = document.querySelector('#df-70fbee77-f226-44d7-bc53-46363da5c44e');\n",
              "        const dataTable =\n",
              "          await google.colab.kernel.invokeFunction('convertToInteractive',\n",
              "                                                    [key], {});\n",
              "        if (!dataTable) return;\n",
              "\n",
              "        const docLinkHtml = 'Like what you see? Visit the ' +\n",
              "          '<a target=\"_blank\" href=https://colab.research.google.com/notebooks/data_table.ipynb>data table notebook</a>'\n",
              "          + ' to learn more about interactive tables.';\n",
              "        element.innerHTML = '';\n",
              "        dataTable['output_type'] = 'display_data';\n",
              "        await google.colab.output.renderOutput(dataTable, element);\n",
              "        const docLink = document.createElement('div');\n",
              "        docLink.innerHTML = docLinkHtml;\n",
              "        element.appendChild(docLink);\n",
              "      }\n",
              "    </script>\n",
              "  </div>\n",
              "\n",
              "\n",
              "<div id=\"df-ffccb4c2-69e3-423d-83dd-e766c82da772\">\n",
              "  <button class=\"colab-df-quickchart\" onclick=\"quickchart('df-ffccb4c2-69e3-423d-83dd-e766c82da772')\"\n",
              "            title=\"Suggest charts\"\n",
              "            style=\"display:none;\">\n",
              "\n",
              "<svg xmlns=\"http://www.w3.org/2000/svg\" height=\"24px\"viewBox=\"0 0 24 24\"\n",
              "     width=\"24px\">\n",
              "    <g>\n",
              "        <path d=\"M19 3H5c-1.1 0-2 .9-2 2v14c0 1.1.9 2 2 2h14c1.1 0 2-.9 2-2V5c0-1.1-.9-2-2-2zM9 17H7v-7h2v7zm4 0h-2V7h2v10zm4 0h-2v-4h2v4z\"/>\n",
              "    </g>\n",
              "</svg>\n",
              "  </button>\n",
              "\n",
              "<style>\n",
              "  .colab-df-quickchart {\n",
              "      --bg-color: #E8F0FE;\n",
              "      --fill-color: #1967D2;\n",
              "      --hover-bg-color: #E2EBFA;\n",
              "      --hover-fill-color: #174EA6;\n",
              "      --disabled-fill-color: #AAA;\n",
              "      --disabled-bg-color: #DDD;\n",
              "  }\n",
              "\n",
              "  [theme=dark] .colab-df-quickchart {\n",
              "      --bg-color: #3B4455;\n",
              "      --fill-color: #D2E3FC;\n",
              "      --hover-bg-color: #434B5C;\n",
              "      --hover-fill-color: #FFFFFF;\n",
              "      --disabled-bg-color: #3B4455;\n",
              "      --disabled-fill-color: #666;\n",
              "  }\n",
              "\n",
              "  .colab-df-quickchart {\n",
              "    background-color: var(--bg-color);\n",
              "    border: none;\n",
              "    border-radius: 50%;\n",
              "    cursor: pointer;\n",
              "    display: none;\n",
              "    fill: var(--fill-color);\n",
              "    height: 32px;\n",
              "    padding: 0;\n",
              "    width: 32px;\n",
              "  }\n",
              "\n",
              "  .colab-df-quickchart:hover {\n",
              "    background-color: var(--hover-bg-color);\n",
              "    box-shadow: 0 1px 2px rgba(60, 64, 67, 0.3), 0 1px 3px 1px rgba(60, 64, 67, 0.15);\n",
              "    fill: var(--button-hover-fill-color);\n",
              "  }\n",
              "\n",
              "  .colab-df-quickchart-complete:disabled,\n",
              "  .colab-df-quickchart-complete:disabled:hover {\n",
              "    background-color: var(--disabled-bg-color);\n",
              "    fill: var(--disabled-fill-color);\n",
              "    box-shadow: none;\n",
              "  }\n",
              "\n",
              "  .colab-df-spinner {\n",
              "    border: 2px solid var(--fill-color);\n",
              "    border-color: transparent;\n",
              "    border-bottom-color: var(--fill-color);\n",
              "    animation:\n",
              "      spin 1s steps(1) infinite;\n",
              "  }\n",
              "\n",
              "  @keyframes spin {\n",
              "    0% {\n",
              "      border-color: transparent;\n",
              "      border-bottom-color: var(--fill-color);\n",
              "      border-left-color: var(--fill-color);\n",
              "    }\n",
              "    20% {\n",
              "      border-color: transparent;\n",
              "      border-left-color: var(--fill-color);\n",
              "      border-top-color: var(--fill-color);\n",
              "    }\n",
              "    30% {\n",
              "      border-color: transparent;\n",
              "      border-left-color: var(--fill-color);\n",
              "      border-top-color: var(--fill-color);\n",
              "      border-right-color: var(--fill-color);\n",
              "    }\n",
              "    40% {\n",
              "      border-color: transparent;\n",
              "      border-right-color: var(--fill-color);\n",
              "      border-top-color: var(--fill-color);\n",
              "    }\n",
              "    60% {\n",
              "      border-color: transparent;\n",
              "      border-right-color: var(--fill-color);\n",
              "    }\n",
              "    80% {\n",
              "      border-color: transparent;\n",
              "      border-right-color: var(--fill-color);\n",
              "      border-bottom-color: var(--fill-color);\n",
              "    }\n",
              "    90% {\n",
              "      border-color: transparent;\n",
              "      border-bottom-color: var(--fill-color);\n",
              "    }\n",
              "  }\n",
              "</style>\n",
              "\n",
              "  <script>\n",
              "    async function quickchart(key) {\n",
              "      const quickchartButtonEl =\n",
              "        document.querySelector('#' + key + ' button');\n",
              "      quickchartButtonEl.disabled = true;  // To prevent multiple clicks.\n",
              "      quickchartButtonEl.classList.add('colab-df-spinner');\n",
              "      try {\n",
              "        const charts = await google.colab.kernel.invokeFunction(\n",
              "            'suggestCharts', [key], {});\n",
              "      } catch (error) {\n",
              "        console.error('Error during call to suggestCharts:', error);\n",
              "      }\n",
              "      quickchartButtonEl.classList.remove('colab-df-spinner');\n",
              "      quickchartButtonEl.classList.add('colab-df-quickchart-complete');\n",
              "    }\n",
              "    (() => {\n",
              "      let quickchartButtonEl =\n",
              "        document.querySelector('#df-ffccb4c2-69e3-423d-83dd-e766c82da772 button');\n",
              "      quickchartButtonEl.style.display =\n",
              "        google.colab.kernel.accessAllowed ? 'block' : 'none';\n",
              "    })();\n",
              "  </script>\n",
              "</div>\n",
              "    </div>\n",
              "  </div>\n"
            ],
            "application/vnd.google.colaboratory.intrinsic+json": {
              "type": "dataframe",
              "variable_name": "LIGO",
              "summary": "{\n  \"name\": \"LIGO\",\n  \"rows\": 100,\n  \"fields\": [\n    {\n      \"column\": \"zLIGO\",\n      \"properties\": {\n        \"dtype\": \"number\",\n        \"std\": 0.03868817102720544,\n        \"min\": 0.0238001249502788,\n        \"max\": 0.1724812051362301,\n        \"num_unique_values\": 100,\n        \"samples\": [\n          0.0959040925053478,\n          0.055168922689264,\n          0.1163959875104814\n        ],\n        \"semantic_type\": \"\",\n        \"description\": \"\"\n      }\n    },\n    {\n      \"column\": \"dlLIGO\",\n      \"properties\": {\n        \"dtype\": \"number\",\n        \"std\": 0.21207135811555985,\n        \"min\": 0.0175625779377681,\n        \"max\": 1.064420448972517,\n        \"num_unique_values\": 100,\n        \"samples\": [\n          0.2937627365995185,\n          0.2540822389032079,\n          0.5373393627522826\n        ],\n        \"semantic_type\": \"\",\n        \"description\": \"\"\n      }\n    },\n    {\n      \"column\": \"errLIGO\",\n      \"properties\": {\n        \"dtype\": \"number\",\n        \"std\": 0.08967754215580577,\n        \"min\": 0.0235035107397377,\n        \"max\": 0.3886541288131994,\n        \"num_unique_values\": 100,\n        \"samples\": [\n          0.1120141691821987,\n          0.0419117960978975,\n          0.1669288216678878\n        ],\n        \"semantic_type\": \"\",\n        \"description\": \"\"\n      }\n    }\n  ]\n}"
            }
          },
          "metadata": {}
        }
      ]
    },
    {
      "cell_type": "markdown",
      "source": [
        "Here, I assigned the data to new variables for convenience later."
      ],
      "metadata": {
        "id": "wrb_OJL9jRdL"
      }
    },
    {
      "cell_type": "code",
      "source": [
        "zLIGO = LIGO[\"zLIGO\"] # redshift of LIGO\n",
        "dlLIGO = LIGO[\"dlLIGO\"] #luminosity distance of LIGO\n",
        "errLIGO = LIGO[\"errLIGO\"] #error of LIGO\n",
        "zLISA = LISA[\"zLISA\"]# redshift of LIGO\n",
        "dlLISA = LISA[\"dlLISA\"]  #luminosity distance of LISA\n",
        "errLISA = LISA[\"errLISA\"]# error of LISA\n",
        "zET = ET[\"zET\"]# redshift of LIGO\n",
        "dlET = ET[\"dlET\"] #luminosity distance of ET\n",
        "errET = ET[\"errET\"]# error of ET"
      ],
      "metadata": {
        "id": "gk5_k25cmJgB"
      },
      "execution_count": null,
      "outputs": []
    },
    {
      "cell_type": "markdown",
      "source": [
        "#### PART 1 - Generate Hubble Diagram *(20 points)*\n",
        "\n",
        "Make a Hubble diagram plot-- with luminosity distance (d_L) in the vertical axis and redshift (z) in the horizontal axis. Show the errors in d_L as error bars.\n",
        "\n",
        "Plot GW sirens from the 3 observatories in the same plot and include a legend. Briefly describe the difference between the samples from the 3 observatories."
      ],
      "metadata": {
        "id": "SqkP0l40aKHj"
      }
    },
    {
      "cell_type": "code",
      "source": [
        "import matplotlib.pyplot as plt"
      ],
      "metadata": {
        "id": "n4rwT8XMmtqo"
      },
      "execution_count": null,
      "outputs": []
    },
    {
      "cell_type": "markdown",
      "source": [
        "The redshift-luminosity distance tells us evolution of the universe. The redshift is due to the expansion of the universe. The luminosity distance is determined from the objects known luminosity and measure flux [1]. Based on the plot below, we see that LISA captures the objects with higher redshifts and luminosity distance more than the rest. It is followed by ET, and lastly by LIGO."
      ],
      "metadata": {
        "id": "nvmYUdSNjoLB"
      }
    },
    {
      "cell_type": "code",
      "source": [
        "plt.errorbar(zLIGO,dlLIGO, yerr=errLIGO, ls = '', capsize = 3, fmt = 'o', ms = 3, label = \"LIGO\")#, capsize=3, fmt=\"r--o\", ecolor = \"black\")\n",
        "plt.errorbar(zLISA,dlLISA, yerr=errLISA, ls = '', capsize = 3, fmt = 'o', ms = 3, label = \"LISA\")#, capsize=3, fmt=\"r--o\", ecolor = \"black\")\n",
        "plt.errorbar(zET,dlET, yerr=errET, ls = '', capsize = 3, fmt = 'o', ms = 3, label = \"ET\")#, capsize=3, fmt=\"r--o\", ecolor = \"black\")\n",
        "plt.xlabel(\"Redshift\")\n",
        "plt.ylabel(\"Luminosity Distance\")\n",
        "plt.legend()"
      ],
      "metadata": {
        "id": "drqNxmsAayWH",
        "colab": {
          "base_uri": "https://localhost:8080/",
          "height": 466
        },
        "outputId": "ceb26074-605b-49da-d754-cd5df4df91d2"
      },
      "execution_count": null,
      "outputs": [
        {
          "output_type": "execute_result",
          "data": {
            "text/plain": [
              "<matplotlib.legend.Legend at 0x7b28ac8cce50>"
            ]
          },
          "metadata": {},
          "execution_count": 98
        },
        {
          "output_type": "display_data",
          "data": {
            "text/plain": [
              "<Figure size 640x480 with 1 Axes>"
            ],
            "image/png": "[encoded data removed]"
          },
          "metadata": {}
        }
      ]
    },
    {
      "cell_type": "markdown",
      "source": [
        "#### PART 2 - Define likelihood functions *(20 points)*\n",
        "\n",
        "In this analysis, we will assume the cosmological model to be flat LambdaCDM universe. This is given by the `FlatLambdaCDM' model from the astropy.cosmology package. In particular, we use the model for the luminosity distance as a function of redshift, which is encoded in the luminosity_distance function.\n",
        "\n",
        "Below, define the chi-square and likelihood function to be used for the LIGO only and the LIGO+LISA dataset. You are asked to define the analogous functions for the LIGO+LISA+ET dataset. Note that the likelihood for the combined dataset is simply the sum of the likelihoods for the individual datasets.\n",
        "\n",
        "\n"
      ],
      "metadata": {
        "id": "CPkkgWSqazmJ"
      }
    },
    {
      "cell_type": "code",
      "source": [
        "from astropy.cosmology import FlatLambdaCDM"
      ],
      "metadata": {
        "id": "d40B1twMbw9Y"
      },
      "execution_count": null,
      "outputs": []
    },
    {
      "cell_type": "markdown",
      "source": [
        "The chi-squared error is given by\n",
        "$$\n",
        "\\chi_i^2 = \\left(\\frac{y_i-y_{model}}{y_{err}}\\right)^2.\n",
        "$$\n",
        "This is important in getting the likeness, which is characterized by the equation\n",
        "$$\n",
        "L_{lnlike} = -\\frac{1}{2}\\sum_i\\chi_i^2\n",
        "$$"
      ],
      "metadata": {
        "id": "aLiKFXLBlcGQ"
      }
    },
    {
      "cell_type": "markdown",
      "source": [
        "`H0` and `Om0` refer to the Hubble Parameter and Matter Density respectively. These are the parameters that we aim to constrain in our model using Markov Chain Monte Carlo (MCMC). With what we expect of the system, we can impose priors to the Hubble Parameter and Matter Density."
      ],
      "metadata": {
        "id": "xMDzLMkIpyuc"
      }
    },
    {
      "cell_type": "markdown",
      "source": [
        "These functions takes the argument `theta` which is a vector containing `H0` and `Om0`. I used `theta` so that later on when using `p0`, the `emcee.EnsembleSampler` only needs to pass on one variable. The functions with `llike` compute for the likeness (probability)."
      ],
      "metadata": {
        "id": "psn37DlVqjFO"
      }
    },
    {
      "cell_type": "markdown",
      "source": [
        "The function `FlatLambdaCDM` comes from the `astropy` libray. It takes inputs of `H0` and `Om0`. From this, we generate the model for the luminosity distance using `cosmo.luminosity_distance`."
      ],
      "metadata": {
        "id": "u_tzYZQa-Dr9"
      }
    },
    {
      "cell_type": "code",
      "source": [
        "# def chi2LIGO_lcdm(H0, Om0):\n",
        "def chi2LIGO_lcdm(theta):\n",
        "    H0, Om0 = theta\n",
        "    cosmo = FlatLambdaCDM(H0=H0, Om0=Om0, Tcmb0=2.725)      # define cosmological model\n",
        "    model = np.array(cosmo.luminosity_distance(zLIGO)/1000) # converted from Gpc to Mpc units\n",
        "\n",
        "    #calculating chi^2\n",
        "    dev = (model - np.array(dlLIGO))/np.array(errLIGO)      # deviations between model and data\n",
        "    chi2 = sum(dev**2)\n",
        "    return chi2\n",
        "\n",
        "def llikeLIGO_lcdm(theta):\n",
        "    H0, Om0 = theta\n",
        "    if (H0 < 0) or (Om0 < 0):\n",
        "        return -np.inf                        # return inf if outside priors\n",
        "    else:\n",
        "        return -0.5*chi2LIGO_lcdm(theta)\n",
        "\n",
        "# LIGO + LISA\n",
        "def chi2LISA_lcdm(theta):\n",
        "    H0, Om0 = theta\n",
        "    cosmo = FlatLambdaCDM(H0=H0, Om0=Om0, Tcmb0=2.725)\n",
        "    model = np.array(cosmo.luminosity_distance(zLISA)/1000)\n",
        "    dev = (model - np.array(dlLISA))/np.array(errLISA)\n",
        "    chi2 = sum(dev**2)\n",
        "    return chi2\n",
        "\n",
        "def llikeLIGOLISA_lcdm(theta):\n",
        "    H0, Om0 = theta\n",
        "    if (H0 < 0) or (Om0 < 0):\n",
        "        return -np.inf\n",
        "    else:\n",
        "        return -0.5*(chi2LIGO_lcdm(theta) + chi2LISA_lcdm(theta))\n",
        "\n",
        "# LIGO + LISA + ET\n",
        "def chi2ET_lcdm(theta):\n",
        "    H0, Om0 = theta\n",
        "    cosmo = FlatLambdaCDM(H0=H0, Om0=Om0, Tcmb0=2.725)\n",
        "    model = np.array(cosmo.luminosity_distance(zET)/1000)\n",
        "    dev = (model - np.array(dlET))/np.array(errET)\n",
        "    chi2 = sum(dev**2)\n",
        "    return chi2\n",
        "\n",
        "def llikeLIGOLISAET_lcdm(theta):\n",
        "    H0, Om0 = theta\n",
        "    if (H0 < 0) or (Om0 < 0):\n",
        "        return -np.inf\n",
        "    else:\n",
        "        return -0.5*(chi2LIGO_lcdm(theta) + chi2LISA_lcdm(theta) + chi2ET_lcdm(theta))"
      ],
      "metadata": {
        "id": "lIFbFSTNbd9V"
      },
      "execution_count": null,
      "outputs": []
    },
    {
      "cell_type": "markdown",
      "source": [
        "#### PART 3 - Perform MCMC runs *(30 points)*\n",
        "\n",
        "Use the emcee library to set up and perform MCMC runs for the 3 samples: LIGO only, LIGO+LISA, and LIGO+LISA+ET combined.\n",
        "\n",
        "You can use number of walkers (nwalkers) of 6 and number of iterations (niter) of 5,000 and number of burn-in samples (nburn) of 100.\n"
      ],
      "metadata": {
        "id": "qz6HLhQE8UAh"
      }
    },
    {
      "cell_type": "code",
      "source": [
        "#!pip install emcee\n",
        "import emcee"
      ],
      "metadata": {
        "id": "iGseIx73b9zd",
        "colab": {
          "base_uri": "https://localhost:8080/"
        },
        "outputId": "b31529ae-e9e7-4ac1-eefa-12299997d8c9"
      },
      "execution_count": null,
      "outputs": [
        {
          "output_type": "stream",
          "name": "stdout",
          "text": [
            "Requirement already satisfied: emcee in /usr/local/lib/python3.10/dist-packages (3.1.6)\n",
            "Requirement already satisfied: numpy in /usr/local/lib/python3.10/dist-packages (from emcee) (1.25.2)\n"
          ]
        }
      ]
    },
    {
      "cell_type": "markdown",
      "source": [
        "To begin the MCMC runs, I set up the conditions below. The variable `nwalkers` refers to the number of walkers. These walkers are defined by the vector `theta`. The number of burn in-samples is `nburn`, these are the number of iterations discarded or \"burnt away\" in the beginning of the run. The goal of this MCMC is to find a set of parameters `H0` and `Om0` that best models the data from the GW sirens. The variable `p0` is responsible for the \"random walk\""
      ],
      "metadata": {
        "id": "snn-lXtZv9ac"
      }
    },
    {
      "cell_type": "code",
      "source": [
        "nwalkers = 6 #number of walkers\n",
        "niter = 5000 #number of iterations\n",
        "nburn = 100 #number of burn-in samples\n",
        "initial = np.array([70,0.3]) #initial parameters\n",
        "ndim = len(initial) #number of parameters\n",
        "p0 = [np.array(initial) + 1e-7 * np.random.randn(ndim) for i in range(nwalkers)] #\"the methodology of stepping from one place to a grid to the next \""
      ],
      "metadata": {
        "id": "mdm920KTFNtY"
      },
      "execution_count": null,
      "outputs": []
    },
    {
      "cell_type": "markdown",
      "source": [
        "I defined a main function `main()` based on the sample code from [2]. This code uses `p0,nwalkers,niter,ndim,lnprob` as the arguments. The argument `lnprob` is the probability generating functin. In this case the functions above beginning in `llike`. I then used the `emcee` library function `emcee.EnsembleSampler` to create the sample. This Ensemble Sampler creates a sampler by establishing an ensemble of walkers. This sampler is then used to sample the model to get the highest likeness with the given data GW sirens.\n",
        "\n",
        "The argument `lnprob` is a callable function that takes `p0[0]`, which is a vector, as an input.\n",
        "\n",
        "The function `sampler.run_mcmc` then runs the MCMC with `p0` as the walkers for a number of `nburn` and `niter` times."
      ],
      "metadata": {
        "id": "lEsiR5EMxjhi"
      }
    },
    {
      "cell_type": "code",
      "source": [
        "def main(p0,nwalkers,niter,ndim,lnprob):\n",
        " sampler = emcee.EnsembleSampler(nwalkers, ndim, lnprob)\n",
        " print(\"Running burn-in...\")\n",
        " p0, _, _ = sampler.run_mcmc(p0, nburn)\n",
        " sampler.reset()\n",
        " print(\"Running production...\")\n",
        " pos, prob, state = sampler.run_mcmc(p0, niter)\n",
        " return sampler, pos, prob, state\n"
      ],
      "metadata": {
        "id": "E4PAgOyqIoav"
      },
      "execution_count": null,
      "outputs": []
    },
    {
      "cell_type": "markdown",
      "source": [
        "I then ran the MCMC on the data of LIGO, LIGO+LISA, and LIGO+LISA+ET to create their samplers."
      ],
      "metadata": {
        "id": "xAe7ynI0z6y8"
      }
    },
    {
      "cell_type": "code",
      "source": [
        "ligo_sampler, pos, prob, state = main(p0,nwalkers,niter,ndim,llikeLIGO_lcdm)"
      ],
      "metadata": {
        "colab": {
          "base_uri": "https://localhost:8080/"
        },
        "id": "m98S-baOMRnF",
        "outputId": "8b6751cd-99c7-4831-af82-6656aab243db"
      },
      "execution_count": null,
      "outputs": [
        {
          "output_type": "stream",
          "name": "stdout",
          "text": [
            "Running burn-in...\n",
            "Running production...\n"
          ]
        }
      ]
    },
    {
      "cell_type": "code",
      "source": [
        "ligolisa_sampler, pos, prob, state = main(p0,nwalkers,niter,ndim,llikeLIGOLISA_lcdm)"
      ],
      "metadata": {
        "colab": {
          "base_uri": "https://localhost:8080/"
        },
        "id": "Ygf4keHozrZ2",
        "outputId": "ff4caf2a-4f9c-49ff-f586-aed47903b264"
      },
      "execution_count": null,
      "outputs": [
        {
          "output_type": "stream",
          "name": "stdout",
          "text": [
            "Running burn-in...\n",
            "Running production...\n"
          ]
        }
      ]
    },
    {
      "cell_type": "code",
      "source": [
        "ligolisaet_sampler, pos, prob, state = main(p0,nwalkers,niter,ndim,llikeLIGOLISAET_lcdm))"
      ],
      "metadata": {
        "colab": {
          "base_uri": "https://localhost:8080/"
        },
        "id": "mOrEce3lz06_",
        "outputId": "c6bcf257-eac6-403d-e09b-b5ba21275ec3"
      },
      "execution_count": null,
      "outputs": [
        {
          "output_type": "stream",
          "name": "stdout",
          "text": [
            "Running burn-in...\n",
            "Running production...\n"
          ]
        }
      ]
    },
    {
      "cell_type": "markdown",
      "source": [
        "WIth this samplers, I extracted the samples using `.flatchain, which is a method that extracts the output of the sampler into a flat array."
      ],
      "metadata": {
        "id": "ztRnHuj90Dxy"
      }
    },
    {
      "cell_type": "code",
      "source": [
        "ligo_samples = ligo_sampler.flatchain\n",
        "ligolisa_samples = ligolisa_sampler.flatchain\n",
        "ligolisaet_samples = ligolisaet_sampler.flatchain"
      ],
      "metadata": {
        "id": "WjiZHXdsydy6"
      },
      "execution_count": null,
      "outputs": []
    },
    {
      "cell_type": "markdown",
      "source": [
        "#### PART 4 - Generate corner plot to visualize the constraints *(30 points)*\n",
        "\n",
        "Overlay the results for the 3 samples for easy comparison. Your plot should resemble the figure here: https://drive.google.com/file/d/18H7GPlox4ijS9qFbk1rHo-NW5N_Nsfer/view?usp=drive_link\n",
        "\n",
        "Briefly describe the difference between the constraints obtained from the different samples."
      ],
      "metadata": {
        "id": "WAjESvPb8q3X"
      }
    },
    {
      "cell_type": "code",
      "source": [
        "#!pip install corner\n",
        "import corner"
      ],
      "metadata": {
        "colab": {
          "base_uri": "https://localhost:8080/"
        },
        "id": "8RMn0zo_yPVw",
        "outputId": "71432751-8759-4b5f-912e-309661c7b605"
      },
      "execution_count": null,
      "outputs": [
        {
          "output_type": "stream",
          "name": "stdout",
          "text": [
            "Requirement already satisfied: corner in /usr/local/lib/python3.10/dist-packages (2.2.2)\n",
            "Requirement already satisfied: matplotlib>=2.1 in /usr/local/lib/python3.10/dist-packages (from corner) (3.7.1)\n",
            "Requirement already satisfied: contourpy>=1.0.1 in /usr/local/lib/python3.10/dist-packages (from matplotlib>=2.1->corner) (1.2.1)\n",
            "Requirement already satisfied: cycler>=0.10 in /usr/local/lib/python3.10/dist-packages (from matplotlib>=2.1->corner) (0.12.1)\n",
            "Requirement already satisfied: fonttools>=4.22.0 in /usr/local/lib/python3.10/dist-packages (from matplotlib>=2.1->corner) (4.51.0)\n",
            "Requirement already satisfied: kiwisolver>=1.0.1 in /usr/local/lib/python3.10/dist-packages (from matplotlib>=2.1->corner) (1.4.5)\n",
            "Requirement already satisfied: numpy>=1.20 in /usr/local/lib/python3.10/dist-packages (from matplotlib>=2.1->corner) (1.25.2)\n",
            "Requirement already satisfied: packaging>=20.0 in /usr/local/lib/python3.10/dist-packages (from matplotlib>=2.1->corner) (24.0)\n",
            "Requirement already satisfied: pillow>=6.2.0 in /usr/local/lib/python3.10/dist-packages (from matplotlib>=2.1->corner) (9.4.0)\n",
            "Requirement already satisfied: pyparsing>=2.3.1 in /usr/local/lib/python3.10/dist-packages (from matplotlib>=2.1->corner) (3.1.2)\n",
            "Requirement already satisfied: python-dateutil>=2.7 in /usr/local/lib/python3.10/dist-packages (from matplotlib>=2.1->corner) (2.8.2)\n",
            "Requirement already satisfied: six>=1.5 in /usr/local/lib/python3.10/dist-packages (from python-dateutil>=2.7->matplotlib>=2.1->corner) (1.16.0)\n"
          ]
        }
      ]
    },
    {
      "cell_type": "code",
      "source": [
        "import matplotlib.lines as mlines"
      ],
      "metadata": {
        "id": "jQ3Z4U556oZr"
      },
      "execution_count": null,
      "outputs": []
    },
    {
      "cell_type": "markdown",
      "source": [
        "I then plotted a corner plot of the samples extracted. From this plot, we see that the constraints become stricter with more datasets included in the MCMC run. LIGO alone only broadly contrains the Hubble Parameter and Matter Density. With the addition of LIGO+LISA, we get a more specific constraint. These results are dependent on the posterior probability, which is set by the priors."
      ],
      "metadata": {
        "id": "l8fPuWmk0izo"
      }
    },
    {
      "cell_type": "code",
      "source": [
        "labels = ['H0','Om0']\n",
        "colors = ['b', 'g', 'r']\n",
        "sample_labels = [\"LIGO\", \"LIGO+LISA\", \"LIGO+LISA+ET\"]\n",
        "fig = corner.corner(ligo_samples, bins = np.sqrt(np.shape(ligo_samples)[0]),labels=labels, color=colors[0],smooth = 15, smooth1d = 10, range = [(65,75),(0.2,0.4)] )#,plot_datapoints=True,quantiles=[0.16, 0.5, 0.84])\n",
        "corner.corner(ligolisa_samples, bins = np.sqrt(np.shape(ligo_samples)[0]),labels=labels, fig = fig, color=colors[1],smooth = 10, smooth1d = 10, ls = '--' )#,plot_datapoints=True,quantiles=[0.16, 0.5, 0.84])\n",
        "corner.corner(ligolisaet_samples, bins = np.sqrt(np.shape(ligo_samples)[0]),labels=labels, fig = fig, color=colors[2],smooth = 10, smooth1d = 10, ls = '--' )#,plot_datapoints=True,quantiles=[0.16, 0.5, 0.84], color='green')\n",
        "\n",
        "\n",
        "plt.legend(\n",
        "        handles=[\n",
        "            mlines.Line2D([], [], color=colors[i], label=sample_labels[i], linewidth =10)\n",
        "            for i in range(3)\n",
        "        ],\n",
        "        fontsize=10, frameon=False,\n",
        "        bbox_to_anchor=(1, ndim), loc=\"upper right\"\n",
        "    )"
      ],
      "metadata": {
        "id": "4_ITeJOM8uww",
        "colab": {
          "base_uri": "https://localhost:8080/",
          "height": 538
        },
        "outputId": "ac42bddd-76a9-41f9-f834-3b9148e55057"
      },
      "execution_count": null,
      "outputs": [
        {
          "output_type": "execute_result",
          "data": {
            "text/plain": [
              "<matplotlib.legend.Legend at 0x7b28ac8b18a0>"
            ]
          },
          "metadata": {},
          "execution_count": 126
        },
        {
          "output_type": "display_data",
          "data": {
            "text/plain": [
              "<Figure size 550x550 with 4 Axes>"
            ],
            "image/png": "[encoded data removed]"
          },
          "metadata": {}
        }
      ]
    },
    {
      "cell_type": "markdown",
      "source": [
        "### References:\n",
        "The codes and general knowledge of MCMC was obtain from [1].\n",
        "\n",
        "[1] https://user-web.icecube.wisc.edu/~halzen/notes/week1-3.pdf\n",
        "\n",
        "[2] https://prappleizer.github.io/Tutorials/MCMC/MCMC_Tutorial_Solution.html"
      ],
      "metadata": {
        "id": "nv1cWsi1kkXe"
      }
    }
  ]
}