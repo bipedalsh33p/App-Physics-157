{
  "nbformat": 4,
  "nbformat_minor": 0,
  "metadata": {
    "colab": {
      "provenance": []
    },
    "kernelspec": {
      "name": "python3",
      "display_name": "Python 3"
    }
  },
  "cells": [
    {
      "cell_type": "markdown",
      "metadata": {
        "id": "RSdzzrWrgAXu"
      },
      "source": [
        "# **AP157 Module C Lab Assignment**\n",
        "\n",
        "## Module C1: Networks\n",
        "\n",
        "_Instructions_: Answer each part of the assignment as completely as you can. Discuss **all** your code and results as clearly and concisely as possible.\n",
        "\n",
        "_Scoring Criteria_: 50% - *correctness of code*; 50% - *discussion of the code and results*. Maximum score is **100 points**.\n",
        "\n",
        "_Credits_: The sample social network used is taken from https://nauczanki.wordpress.com/2014/11/10/social-network-analysis-basics-in-300-words-dalmooc-assignment-week-3/, which in turn is taken from an unspecified MOOC assignment."
      ]
    },
    {
      "cell_type": "markdown",
      "metadata": {
        "id": "I_dmUyo2pxIt"
      },
      "source": [
        "### Student Information\n",
        "\n",
        "_Full Name (Last Name, First Name)_: Manliguez, Sean Arthur \\\n",
        "_Student No._: 2020-07582 \\\n",
        "_Section_: TX - 1"
      ]
    },
    {
      "cell_type": "markdown",
      "metadata": {
        "id": "LyO1CnkFp17G"
      },
      "source": [
        "### Submission Information\n",
        "\n",
        "_Date and Time Submitted (most recent upload)_: May 23, 2024 11:30 PM\n",
        "\n",
        "**HONOR PLEDGE** I affirm that I have upheld the highest principles of honesty and integrity in my academic work and that this lab assignment is my own work.\n",
        "\n",
        "**Sign here with your full name:** SEAN ARTHUR C. MANLIGUEZ"
      ]
    },
    {
      "cell_type": "markdown",
      "metadata": {
        "id": "xgse8Mt5p35S"
      },
      "source": [
        "### Grading Information (c/o Instructor)\n",
        "\n",
        "TOTAL SCORE: **[]**/100\n",
        "\n",
        "Score breakdown:\n",
        "* Part 1 - []/30\n",
        "* Part 2 - []/30\n",
        "* Part 3 - []/30\n",
        "* Part 4 - []/40\n",
        "\n",
        "_Date and Time Scored (MM/DD/YYYY HH:MM AM/PM):_"
      ]
    },
    {
      "cell_type": "markdown",
      "source": [
        "For all parts of this assignment,  refer to the diagram of the sample social network in the Google Drive \"Datasets\" Folder (https://drive.google.com/file/d/1DkAK44GfocX0bmlSfK5Q6cbYXAUkixyj/view?usp=drive_link)"
      ],
      "metadata": {
        "id": "ume3h45hdJFm"
      }
    },
    {
      "cell_type": "markdown",
      "metadata": {
        "id": "gAgom2vqp-2X"
      },
      "source": [
        "## PART 1 - Network generation and characteristics *(30 points)*\n",
        "\n",
        "1. Using the Python package networkx, define a network that represents the social network of friends in the diagram. *(15 points)*  \n",
        "\n",
        "2. Calculate the ff. network characteristics: *(15 points; 5 points each)*\n",
        "- Diameter\n",
        "- Density\n",
        "- Average Degree\n",
        "\n",
        "3. Create the degree distribution plot and briefly discuss what it tells us about this social network. *(10 points)*"
      ]
    },
    {
      "cell_type": "code",
      "source": [
        "import networkx as nx\n",
        "import matplotlib.pyplot as plt\n",
        "import numpy as np #for creating network\n",
        "import networkx.drawing.nx_pylab"
      ],
      "metadata": {
        "id": "U5dRTIPWfNss"
      },
      "execution_count": 94,
      "outputs": []
    },
    {
      "cell_type": "markdown",
      "source": [
        "### **Creating the Graph**"
      ],
      "metadata": {
        "id": "kDQZYJ_wQxl2"
      }
    },
    {
      "cell_type": "markdown",
      "source": [
        "The code below creates a network with nodes named Jill, Mike, Bob, John, Leah, Shane, Emma, Liz, Allen, and Lisa. I created the network by defining the adjacent nodes using the dictionary `adj_dict`."
      ],
      "metadata": {
        "id": "KyzME1ADQADs"
      }
    },
    {
      "cell_type": "code",
      "source": [
        "# #Creating the nodes. The format in each line of the dictionary is node_name: (adjacent nodes)\n",
        "adj_dict = {\"Jill\": [\"Mike\",\"Bob\",\"John\", \"Leah\",\"Shane\", \"Emma\"],\n",
        "            \"Mike\": [\"Bob\", \"Emma\"],\n",
        "            \"Bob\": [\"John\", \"Emma\"],\n",
        "            \"John\": [\"Leah\", \"Shane\"],\n",
        "            \"Leah\": [\"Shane\"],\n",
        "            \"Shane\": [\"Emma\", \"Liz\"],\n",
        "            \"Emma\": [\"Liz\"],\n",
        "            \"Liz\": [\"Allen\"],\n",
        "            \"Allen\": [\"Lisa\"]}\n",
        "H = nx.Graph(adj_dict)  #initializing the graph H by mapping nodes to their neighbors.."
      ],
      "metadata": {
        "id": "72r-uFToKj0N"
      },
      "execution_count": 95,
      "outputs": []
    },
    {
      "cell_type": "markdown",
      "source": [
        "I then visualized the code using `nx.draw` where the nodes are separated by a \"force\" referred to as \"Kamada Kawai\" using the function `nx.kamada_kawai_layout(H)`."
      ],
      "metadata": {
        "id": "-Yjc74o5Qk4p"
      }
    },
    {
      "cell_type": "code",
      "source": [
        "pos = nx.kamada_kawai_layout(H) # separation force\n",
        "nx.draw(H, with_labels = True, pos = pos, font_weight = 'bold',  node_size = 1800, node_color = 'b', font_color = 'w')"
      ],
      "metadata": {
        "colab": {
          "base_uri": "https://localhost:8080/",
          "height": 516
        },
        "id": "0QrN6pgPHEnw",
        "outputId": "470a5426-390d-4a35-833f-e14c2d469fa5"
      },
      "execution_count": 96,
      "outputs": [
        {
          "output_type": "display_data",
          "data": {
            "text/plain": [
              "<Figure size 640x480 with 1 Axes>"
            ],
            "image/png": "[encoded data removed]"
          },
          "metadata": {}
        }
      ]
    },
    {
      "cell_type": "markdown",
      "source": [
        "##### **Network Characteristics**"
      ],
      "metadata": {
        "id": "eJSp1UchQ0uT"
      }
    },
    {
      "cell_type": "code",
      "source": [
        "nodes = H.nodes #initializing the nodes of the graph H to a dictionary named nodes\n",
        "edges = H.edges #initializing the nodes of the graph H to a dictionary named edges"
      ],
      "metadata": {
        "id": "ajq7AyUnZWx6"
      },
      "execution_count": 97,
      "outputs": []
    },
    {
      "cell_type": "markdown",
      "source": [
        "##### *Diameter*\n",
        "\n",
        "To calculate the diameter, I used the `networkx` function `nx.shortest_path_length`, which uses the *Dijkstra* method to get the shortest path from a source node to other nodes. The code below scans through each node and uses it as the source node to get the shortest path to other nodes."
      ],
      "metadata": {
        "id": "nBKGP8y1ROlB"
      }
    },
    {
      "cell_type": "code",
      "source": [
        "for node in nodes: #indexing every node in the network\n",
        "  sp = list(nx.shortest_path_length(H, source = node).values()) #gets the shortest path to other nodes\n",
        "  temp_diameter = np.max(sp) #gets the distance from the source to the farthest node\n",
        "  if temp_diameter > diameter: #condition to check through all sourcen nodes\n",
        "   diameter = temp_diameter\n",
        "print(f\"The diameter of the given network is {diameter}\")\n",
        "\n"
      ],
      "metadata": {
        "colab": {
          "base_uri": "https://localhost:8080/"
        },
        "id": "6YVmLRBYROH2",
        "outputId": "417d8f2f-e08d-440f-deb8-cbf688603b14"
      },
      "execution_count": 98,
      "outputs": [
        {
          "output_type": "stream",
          "name": "stdout",
          "text": [
            "The diameter of the given network is 4\n"
          ]
        }
      ]
    },
    {
      "cell_type": "markdown",
      "source": [
        "##### *Density*"
      ],
      "metadata": {
        "id": "AU8c0K_1VfB-"
      }
    },
    {
      "cell_type": "markdown",
      "source": [
        "The density is the equal to the number of edges divided by the maximum possible number of edges and is represented by the equation\n",
        "$$\n",
        "d = \\frac{2g}{n(n-1)} \\tag{1}\n",
        "$$,\n",
        "where $g$ is the number of edges and $n$ is the number of nodes."
      ],
      "metadata": {
        "id": "qXtABhYOWPHN"
      }
    },
    {
      "cell_type": "code",
      "source": [
        "num_nodes = len(nodes) #gets the number of nodes\n",
        "num_edges = len(edges) #gets the number of edges\n",
        "density = 2*num_edges/(num_nodes*(num_nodes-1)) #implementation of eq. (1)\n",
        "print(f\"The density of the given network is {density}\")"
      ],
      "metadata": {
        "colab": {
          "base_uri": "https://localhost:8080/"
        },
        "id": "YeTbjY6fVh1F",
        "outputId": "0596f1ce-d1cf-4f74-d2bf-7baff5edc3c0"
      },
      "execution_count": 99,
      "outputs": [
        {
          "output_type": "stream",
          "name": "stdout",
          "text": [
            "The density of the given network is 0.4\n"
          ]
        }
      ]
    },
    {
      "cell_type": "markdown",
      "source": [
        "##### *Average Degree*"
      ],
      "metadata": {
        "id": "NaDTi4NYWJe3"
      }
    },
    {
      "cell_type": "markdown",
      "source": [
        "The average degree is the sum of the degrees of each node divided by the total number of nodes. It is given by\n",
        "$$\n",
        "\\mu_{degree} = \\frac{1}{n}\\sum_i^n D_i, \\tag{2}\n",
        "$$\n",
        "where $D$ is the degree of the node $i$. The degree of the node refers to its number of edges."
      ],
      "metadata": {
        "id": "wigoGitxSZnk"
      }
    },
    {
      "cell_type": "code",
      "source": [
        "sum_degree = 0\n",
        "#adjs = H.adj #takes the\n",
        "node_degree_list = []\n",
        "for node in nodes:\n",
        "  node_degree = len(H.adj[node]) #takes the number of adjacent nodes\n",
        "  node_degree_list.append(node_degree) #appends it to the list of the degrees\n",
        "  sum_degree += node_degree #takes the summation\n",
        "average_degree = sum_degree/num_nodes #taking the average\n",
        "print(f\"The average degree of the given network is {average_degree}\")"
      ],
      "metadata": {
        "colab": {
          "base_uri": "https://localhost:8080/"
        },
        "id": "mFaJ4HXYXQh1",
        "outputId": "d7d49090-1703-4665-bf74-ed50d0c33cf9"
      },
      "execution_count": 100,
      "outputs": [
        {
          "output_type": "stream",
          "name": "stdout",
          "text": [
            "The average degree of the given network is 3.6\n"
          ]
        }
      ]
    },
    {
      "cell_type": "markdown",
      "source": [
        "##### *Degree Distribution Plot*"
      ],
      "metadata": {
        "id": "tLCVJ1cNaQHt"
      }
    },
    {
      "cell_type": "markdown",
      "source": [
        "The degree distribution plot tells us the fraction of nodes that have a particular degree."
      ],
      "metadata": {
        "id": "Wjo1IacITmd2"
      }
    },
    {
      "cell_type": "code",
      "source": [
        "degree_values = np.unique(node_degree_list) #takes the possible degrees\n",
        "frac_nodes = [] #fraction of nodes with a particular degree\n",
        "for value in degree_values:\n",
        "  count = node_degree_list.count(value) #counts the number of nodes with a degree of value\n",
        "  frac_nodes.append(count/num_nodes) #adds it to the list"
      ],
      "metadata": {
        "id": "lJLdpRJ2ajPC"
      },
      "execution_count": 101,
      "outputs": []
    },
    {
      "cell_type": "markdown",
      "source": [
        "Based on the distribution below, we see that a large fraction of the nodes have a degree of 3. Greater than half of the nodes have a degree of 3-5, this suggests that the network is moderately connected."
      ],
      "metadata": {
        "id": "yqrnzzLEUgIW"
      }
    },
    {
      "cell_type": "code",
      "source": [
        "#visualizing the degree distribution plot in a bar graph\n",
        "plt.bar(degree_values,frac_nodes, color = 'b')\n",
        "plt.xlabel(\"Degree\")\n",
        "plt.ylabel(\"Fraction of Nodes\")"
      ],
      "metadata": {
        "colab": {
          "base_uri": "https://localhost:8080/",
          "height": 467
        },
        "id": "F8xvJWwxcbJR",
        "outputId": "92d01cc0-e781-40f7-83de-50e1426551b1"
      },
      "execution_count": 102,
      "outputs": [
        {
          "output_type": "execute_result",
          "data": {
            "text/plain": [
              "Text(0, 0.5, 'Fraction of Nodes')"
            ]
          },
          "metadata": {},
          "execution_count": 102
        },
        {
          "output_type": "display_data",
          "data": {
            "text/plain": [
              "<Figure size 640x480 with 1 Axes>"
            ],
            "image/png": "[encoded data removed]"
          },
          "metadata": {}
        }
      ]
    },
    {
      "cell_type": "markdown",
      "source": [
        "## PART 2 - Centrality Measures *(30 points)*\n",
        "\n",
        "Generate a table of centrality measures per node. Columns are:\n",
        "- Name\n",
        "- Degree Centrality\n",
        "- Betweenness Centrality\n",
        "- Closeness Centrality\n",
        "\n",
        "Briefly discuss who are the most \"central\" people in the social network and why."
      ],
      "metadata": {
        "id": "aE9PlOt1fIUb"
      }
    },
    {
      "cell_type": "code",
      "source": [],
      "metadata": {
        "id": "_nXjH5ki8J1h"
      },
      "execution_count": null,
      "outputs": []
    },
    {
      "cell_type": "code",
      "source": [
        "import pandas as pd"
      ],
      "metadata": {
        "id": "ZnsW3N3tQPPv"
      },
      "execution_count": 103,
      "outputs": []
    },
    {
      "cell_type": "markdown",
      "source": [
        "##### *Degree Centrality*"
      ],
      "metadata": {
        "id": "IubEFF1NWjjv"
      }
    },
    {
      "cell_type": "markdown",
      "source": [
        "To calculate the Degree Centrality, I first created an adjacency matrix using `pandas`. The row and column titles refer to the nodes. The elements of the adjacency matrix tells which nodes are adjacent. This is usually indicated by a 1 in the element of the matrix. Evidently, the diagonal is 0 since a matrix cannot be adjacent to itself. At a glance, we see that Jill has the most adjacent matrix. Since the network is undirected, the adjacency matrix is symmetrical along the diagonal. The adjacency matrix was created using the `networkx` package with the function `nx.adjacency_matrix(H)`, where H is the network."
      ],
      "metadata": {
        "id": "YVZkAQCOU6LW"
      }
    },
    {
      "cell_type": "code",
      "source": [
        "A = nx.adjacency_matrix(H).A #creates the adjacency matrix\n",
        "nodes_array = np.array(nodes) #converts the nodes dictionary into an array for easier handling\n",
        "adjacency_matrix = pd.DataFrame(A, columns = nodes, index = nodes) #initializing the adjacency matrix as a dataframe"
      ],
      "metadata": {
        "id": "g5aaif0EiqML",
        "colab": {
          "base_uri": "https://localhost:8080/"
        },
        "outputId": "16b0d387-f79f-4c1f-8edb-688d5d342f68"
      },
      "execution_count": 104,
      "outputs": [
        {
          "output_type": "stream",
          "name": "stderr",
          "text": [
            "/usr/local/lib/python3.10/dist-packages/scipy/sparse/_base.py:719: VisibleDeprecationWarning: `.A` is deprecated and will be removed in v1.13.0. Use `.toarray()` instead.\n",
            "  warn(np.VisibleDeprecationWarning(\n"
          ]
        }
      ]
    },
    {
      "cell_type": "code",
      "source": [
        "display(adjacency_matrix) #visualization"
      ],
      "metadata": {
        "colab": {
          "base_uri": "https://localhost:8080/",
          "height": 363
        },
        "id": "WFD9gxscnb6c",
        "outputId": "b682f837-f96d-4a69-ca1e-e26bf4bd619b"
      },
      "execution_count": 105,
      "outputs": [
        {
          "output_type": "display_data",
          "data": {
            "text/plain": [
              "       Jill  Mike  Bob  John  Leah  Shane  Emma  Liz  Allen  Lisa\n",
              "Jill      0     1    1     1     1      1     1    0      0     0\n",
              "Mike      1     0    1     0     0      0     1    0      0     0\n",
              "Bob       1     1    0     1     0      0     1    0      0     0\n",
              "John      1     0    1     0     1      1     0    0      0     0\n",
              "Leah      1     0    0     1     0      1     0    0      0     0\n",
              "Shane     1     0    0     1     1      0     1    1      0     0\n",
              "Emma      1     1    1     0     0      1     0    1      0     0\n",
              "Liz       0     0    0     0     0      1     1    0      1     0\n",
              "Allen     0     0    0     0     0      0     0    1      0     1\n",
              "Lisa      0     0    0     0     0      0     0    0      1     0"
            ],
            "text/html": [
              "\n",
              "  <div id=\"df-534b27c1-fbf8-47e3-8e2b-35e81436448a\" class=\"colab-df-container\">\n",
              "    <div>\n",
              "<style scoped>\n",
              "    .dataframe tbody tr th:only-of-type {\n",
              "        vertical-align: middle;\n",
              "    }\n",
              "\n",
              "    .dataframe tbody tr th {\n",
              "        vertical-align: top;\n",
              "    }\n",
              "\n",
              "    .dataframe thead th {\n",
              "        text-align: right;\n",
              "    }\n",
              "</style>\n",
              "<table border=\"1\" class=\"dataframe\">\n",
              "  <thead>\n",
              "    <tr style=\"text-align: right;\">\n",
              "      <th></th>\n",
              "      <th>Jill</th>\n",
              "      <th>Mike</th>\n",
              "      <th>Bob</th>\n",
              "      <th>John</th>\n",
              "      <th>Leah</th>\n",
              "      <th>Shane</th>\n",
              "      <th>Emma</th>\n",
              "      <th>Liz</th>\n",
              "      <th>Allen</th>\n",
              "      <th>Lisa</th>\n",
              "    </tr>\n",
              "  </thead>\n",
              "  <tbody>\n",
              "    <tr>\n",
              "      <th>Jill</th>\n",
              "      <td>0</td>\n",
              "      <td>1</td>\n",
              "      <td>1</td>\n",
              "      <td>1</td>\n",
              "      <td>1</td>\n",
              "      <td>1</td>\n",
              "      <td>1</td>\n",
              "      <td>0</td>\n",
              "      <td>0</td>\n",
              "      <td>0</td>\n",
              "    </tr>\n",
              "    <tr>\n",
              "      <th>Mike</th>\n",
              "      <td>1</td>\n",
              "      <td>0</td>\n",
              "      <td>1</td>\n",
              "      <td>0</td>\n",
              "      <td>0</td>\n",
              "      <td>0</td>\n",
              "      <td>1</td>\n",
              "      <td>0</td>\n",
              "      <td>0</td>\n",
              "      <td>0</td>\n",
              "    </tr>\n",
              "    <tr>\n",
              "      <th>Bob</th>\n",
              "      <td>1</td>\n",
              "      <td>1</td>\n",
              "      <td>0</td>\n",
              "      <td>1</td>\n",
              "      <td>0</td>\n",
              "      <td>0</td>\n",
              "      <td>1</td>\n",
              "      <td>0</td>\n",
              "      <td>0</td>\n",
              "      <td>0</td>\n",
              "    </tr>\n",
              "    <tr>\n",
              "      <th>John</th>\n",
              "      <td>1</td>\n",
              "      <td>0</td>\n",
              "      <td>1</td>\n",
              "      <td>0</td>\n",
              "      <td>1</td>\n",
              "      <td>1</td>\n",
              "      <td>0</td>\n",
              "      <td>0</td>\n",
              "      <td>0</td>\n",
              "      <td>0</td>\n",
              "    </tr>\n",
              "    <tr>\n",
              "      <th>Leah</th>\n",
              "      <td>1</td>\n",
              "      <td>0</td>\n",
              "      <td>0</td>\n",
              "      <td>1</td>\n",
              "      <td>0</td>\n",
              "      <td>1</td>\n",
              "      <td>0</td>\n",
              "      <td>0</td>\n",
              "      <td>0</td>\n",
              "      <td>0</td>\n",
              "    </tr>\n",
              "    <tr>\n",
              "      <th>Shane</th>\n",
              "      <td>1</td>\n",
              "      <td>0</td>\n",
              "      <td>0</td>\n",
              "      <td>1</td>\n",
              "      <td>1</td>\n",
              "      <td>0</td>\n",
              "      <td>1</td>\n",
              "      <td>1</td>\n",
              "      <td>0</td>\n",
              "      <td>0</td>\n",
              "    </tr>\n",
              "    <tr>\n",
              "      <th>Emma</th>\n",
              "      <td>1</td>\n",
              "      <td>1</td>\n",
              "      <td>1</td>\n",
              "      <td>0</td>\n",
              "      <td>0</td>\n",
              "      <td>1</td>\n",
              "      <td>0</td>\n",
              "      <td>1</td>\n",
              "      <td>0</td>\n",
              "      <td>0</td>\n",
              "    </tr>\n",
              "    <tr>\n",
              "      <th>Liz</th>\n",
              "      <td>0</td>\n",
              "      <td>0</td>\n",
              "      <td>0</td>\n",
              "      <td>0</td>\n",
              "      <td>0</td>\n",
              "      <td>1</td>\n",
              "      <td>1</td>\n",
              "      <td>0</td>\n",
              "      <td>1</td>\n",
              "      <td>0</td>\n",
              "    </tr>\n",
              "    <tr>\n",
              "      <th>Allen</th>\n",
              "      <td>0</td>\n",
              "      <td>0</td>\n",
              "      <td>0</td>\n",
              "      <td>0</td>\n",
              "      <td>0</td>\n",
              "      <td>0</td>\n",
              "      <td>0</td>\n",
              "      <td>1</td>\n",
              "      <td>0</td>\n",
              "      <td>1</td>\n",
              "    </tr>\n",
              "    <tr>\n",
              "      <th>Lisa</th>\n",
              "      <td>0</td>\n",
              "      <td>0</td>\n",
              "      <td>0</td>\n",
              "      <td>0</td>\n",
              "      <td>0</td>\n",
              "      <td>0</td>\n",
              "      <td>0</td>\n",
              "      <td>0</td>\n",
              "      <td>1</td>\n",
              "      <td>0</td>\n",
              "    </tr>\n",
              "  </tbody>\n",
              "</table>\n",
              "</div>\n",
              "    <div class=\"colab-df-buttons\">\n",
              "\n",
              "  <div class=\"colab-df-container\">\n",
              "    <button class=\"colab-df-convert\" onclick=\"convertToInteractive('df-534b27c1-fbf8-47e3-8e2b-35e81436448a')\"\n",
              "            title=\"Convert this dataframe to an interactive table.\"\n",
              "            style=\"display:none;\">\n",
              "\n",
              "  <svg xmlns=\"http://www.w3.org/2000/svg\" height=\"24px\" viewBox=\"0 -960 960 960\">\n",
              "    <path d=\"M120-120v-720h720v720H120Zm60-500h600v-160H180v160Zm220 220h160v-160H400v160Zm0 220h160v-160H400v160ZM180-400h160v-160H180v160Zm440 0h160v-160H620v160ZM180-180h160v-160H180v160Zm440 0h160v-160H620v160Z\"/>\n",
              "  </svg>\n",
              "    </button>\n",
              "\n",
              "  <style>\n",
              "    .colab-df-container {\n",
              "      display:flex;\n",
              "      gap: 12px;\n",
              "    }\n",
              "\n",
              "    .colab-df-convert {\n",
              "      background-color: #E8F0FE;\n",
              "      border: none;\n",
              "      border-radius: 50%;\n",
              "      cursor: pointer;\n",
              "      display: none;\n",
              "      fill: #1967D2;\n",
              "      height: 32px;\n",
              "      padding: 0 0 0 0;\n",
              "      width: 32px;\n",
              "    }\n",
              "\n",
              "    .colab-df-convert:hover {\n",
              "      background-color: #E2EBFA;\n",
              "      box-shadow: 0px 1px 2px rgba(60, 64, 67, 0.3), 0px 1px 3px 1px rgba(60, 64, 67, 0.15);\n",
              "      fill: #174EA6;\n",
              "    }\n",
              "\n",
              "    .colab-df-buttons div {\n",
              "      margin-bottom: 4px;\n",
              "    }\n",
              "\n",
              "    [theme=dark] .colab-df-convert {\n",
              "      background-color: #3B4455;\n",
              "      fill: #D2E3FC;\n",
              "    }\n",
              "\n",
              "    [theme=dark] .colab-df-convert:hover {\n",
              "      background-color: #434B5C;\n",
              "      box-shadow: 0px 1px 3px 1px rgba(0, 0, 0, 0.15);\n",
              "      filter: drop-shadow(0px 1px 2px rgba(0, 0, 0, 0.3));\n",
              "      fill: #FFFFFF;\n",
              "    }\n",
              "  </style>\n",
              "\n",
              "    <script>\n",
              "      const buttonEl =\n",
              "        document.querySelector('#df-534b27c1-fbf8-47e3-8e2b-35e81436448a button.colab-df-convert');\n",
              "      buttonEl.style.display =\n",
              "        google.colab.kernel.accessAllowed ? 'block' : 'none';\n",
              "\n",
              "      async function convertToInteractive(key) {\n",
              "        const element = document.querySelector('#df-534b27c1-fbf8-47e3-8e2b-35e81436448a');\n",
              "        const dataTable =\n",
              "          await google.colab.kernel.invokeFunction('convertToInteractive',\n",
              "                                                    [key], {});\n",
              "        if (!dataTable) return;\n",
              "\n",
              "        const docLinkHtml = 'Like what you see? Visit the ' +\n",
              "          '<a target=\"_blank\" href=https://colab.research.google.com/notebooks/data_table.ipynb>data table notebook</a>'\n",
              "          + ' to learn more about interactive tables.';\n",
              "        element.innerHTML = '';\n",
              "        dataTable['output_type'] = 'display_data';\n",
              "        await google.colab.output.renderOutput(dataTable, element);\n",
              "        const docLink = document.createElement('div');\n",
              "        docLink.innerHTML = docLinkHtml;\n",
              "        element.appendChild(docLink);\n",
              "      }\n",
              "    </script>\n",
              "  </div>\n",
              "\n",
              "\n",
              "<div id=\"df-8122dc16-d386-4256-80fa-712ad4f1230c\">\n",
              "  <button class=\"colab-df-quickchart\" onclick=\"quickchart('df-8122dc16-d386-4256-80fa-712ad4f1230c')\"\n",
              "            title=\"Suggest charts\"\n",
              "            style=\"display:none;\">\n",
              "\n",
              "<svg xmlns=\"http://www.w3.org/2000/svg\" height=\"24px\"viewBox=\"0 0 24 24\"\n",
              "     width=\"24px\">\n",
              "    <g>\n",
              "        <path d=\"M19 3H5c-1.1 0-2 .9-2 2v14c0 1.1.9 2 2 2h14c1.1 0 2-.9 2-2V5c0-1.1-.9-2-2-2zM9 17H7v-7h2v7zm4 0h-2V7h2v10zm4 0h-2v-4h2v4z\"/>\n",
              "    </g>\n",
              "</svg>\n",
              "  </button>\n",
              "\n",
              "<style>\n",
              "  .colab-df-quickchart {\n",
              "      --bg-color: #E8F0FE;\n",
              "      --fill-color: #1967D2;\n",
              "      --hover-bg-color: #E2EBFA;\n",
              "      --hover-fill-color: #174EA6;\n",
              "      --disabled-fill-color: #AAA;\n",
              "      --disabled-bg-color: #DDD;\n",
              "  }\n",
              "\n",
              "  [theme=dark] .colab-df-quickchart {\n",
              "      --bg-color: #3B4455;\n",
              "      --fill-color: #D2E3FC;\n",
              "      --hover-bg-color: #434B5C;\n",
              "      --hover-fill-color: #FFFFFF;\n",
              "      --disabled-bg-color: #3B4455;\n",
              "      --disabled-fill-color: #666;\n",
              "  }\n",
              "\n",
              "  .colab-df-quickchart {\n",
              "    background-color: var(--bg-color);\n",
              "    border: none;\n",
              "    border-radius: 50%;\n",
              "    cursor: pointer;\n",
              "    display: none;\n",
              "    fill: var(--fill-color);\n",
              "    height: 32px;\n",
              "    padding: 0;\n",
              "    width: 32px;\n",
              "  }\n",
              "\n",
              "  .colab-df-quickchart:hover {\n",
              "    background-color: var(--hover-bg-color);\n",
              "    box-shadow: 0 1px 2px rgba(60, 64, 67, 0.3), 0 1px 3px 1px rgba(60, 64, 67, 0.15);\n",
              "    fill: var(--button-hover-fill-color);\n",
              "  }\n",
              "\n",
              "  .colab-df-quickchart-complete:disabled,\n",
              "  .colab-df-quickchart-complete:disabled:hover {\n",
              "    background-color: var(--disabled-bg-color);\n",
              "    fill: var(--disabled-fill-color);\n",
              "    box-shadow: none;\n",
              "  }\n",
              "\n",
              "  .colab-df-spinner {\n",
              "    border: 2px solid var(--fill-color);\n",
              "    border-color: transparent;\n",
              "    border-bottom-color: var(--fill-color);\n",
              "    animation:\n",
              "      spin 1s steps(1) infinite;\n",
              "  }\n",
              "\n",
              "  @keyframes spin {\n",
              "    0% {\n",
              "      border-color: transparent;\n",
              "      border-bottom-color: var(--fill-color);\n",
              "      border-left-color: var(--fill-color);\n",
              "    }\n",
              "    20% {\n",
              "      border-color: transparent;\n",
              "      border-left-color: var(--fill-color);\n",
              "      border-top-color: var(--fill-color);\n",
              "    }\n",
              "    30% {\n",
              "      border-color: transparent;\n",
              "      border-left-color: var(--fill-color);\n",
              "      border-top-color: var(--fill-color);\n",
              "      border-right-color: var(--fill-color);\n",
              "    }\n",
              "    40% {\n",
              "      border-color: transparent;\n",
              "      border-right-color: var(--fill-color);\n",
              "      border-top-color: var(--fill-color);\n",
              "    }\n",
              "    60% {\n",
              "      border-color: transparent;\n",
              "      border-right-color: var(--fill-color);\n",
              "    }\n",
              "    80% {\n",
              "      border-color: transparent;\n",
              "      border-right-color: var(--fill-color);\n",
              "      border-bottom-color: var(--fill-color);\n",
              "    }\n",
              "    90% {\n",
              "      border-color: transparent;\n",
              "      border-bottom-color: var(--fill-color);\n",
              "    }\n",
              "  }\n",
              "</style>\n",
              "\n",
              "  <script>\n",
              "    async function quickchart(key) {\n",
              "      const quickchartButtonEl =\n",
              "        document.querySelector('#' + key + ' button');\n",
              "      quickchartButtonEl.disabled = true;  // To prevent multiple clicks.\n",
              "      quickchartButtonEl.classList.add('colab-df-spinner');\n",
              "      try {\n",
              "        const charts = await google.colab.kernel.invokeFunction(\n",
              "            'suggestCharts', [key], {});\n",
              "      } catch (error) {\n",
              "        console.error('Error during call to suggestCharts:', error);\n",
              "      }\n",
              "      quickchartButtonEl.classList.remove('colab-df-spinner');\n",
              "      quickchartButtonEl.classList.add('colab-df-quickchart-complete');\n",
              "    }\n",
              "    (() => {\n",
              "      let quickchartButtonEl =\n",
              "        document.querySelector('#df-8122dc16-d386-4256-80fa-712ad4f1230c button');\n",
              "      quickchartButtonEl.style.display =\n",
              "        google.colab.kernel.accessAllowed ? 'block' : 'none';\n",
              "    })();\n",
              "  </script>\n",
              "</div>\n",
              "    </div>\n",
              "  </div>\n"
            ],
            "application/vnd.google.colaboratory.intrinsic+json": {
              "type": "dataframe",
              "variable_name": "adjacency_matrix",
              "summary": "{\n  \"name\": \"adjacency_matrix\",\n  \"rows\": 10,\n  \"fields\": [\n    {\n      \"column\": \"Jill\",\n      \"properties\": {\n        \"dtype\": \"number\",\n        \"std\": 0,\n        \"min\": 0,\n        \"max\": 1,\n        \"num_unique_values\": 2,\n        \"samples\": [\n          1,\n          0\n        ],\n        \"semantic_type\": \"\",\n        \"description\": \"\"\n      }\n    },\n    {\n      \"column\": \"Mike\",\n      \"properties\": {\n        \"dtype\": \"number\",\n        \"std\": 0,\n        \"min\": 0,\n        \"max\": 1,\n        \"num_unique_values\": 2,\n        \"samples\": [\n          0,\n          1\n        ],\n        \"semantic_type\": \"\",\n        \"description\": \"\"\n      }\n    },\n    {\n      \"column\": \"Bob\",\n      \"properties\": {\n        \"dtype\": \"number\",\n        \"std\": 0,\n        \"min\": 0,\n        \"max\": 1,\n        \"num_unique_values\": 2,\n        \"samples\": [\n          0,\n          1\n        ],\n        \"semantic_type\": \"\",\n        \"description\": \"\"\n      }\n    },\n    {\n      \"column\": \"John\",\n      \"properties\": {\n        \"dtype\": \"number\",\n        \"std\": 0,\n        \"min\": 0,\n        \"max\": 1,\n        \"num_unique_values\": 2,\n        \"samples\": [\n          0,\n          1\n        ],\n        \"semantic_type\": \"\",\n        \"description\": \"\"\n      }\n    },\n    {\n      \"column\": \"Leah\",\n      \"properties\": {\n        \"dtype\": \"number\",\n        \"std\": 0,\n        \"min\": 0,\n        \"max\": 1,\n        \"num_unique_values\": 2,\n        \"samples\": [\n          0,\n          1\n        ],\n        \"semantic_type\": \"\",\n        \"description\": \"\"\n      }\n    },\n    {\n      \"column\": \"Shane\",\n      \"properties\": {\n        \"dtype\": \"number\",\n        \"std\": 0,\n        \"min\": 0,\n        \"max\": 1,\n        \"num_unique_values\": 2,\n        \"samples\": [\n          0,\n          1\n        ],\n        \"semantic_type\": \"\",\n        \"description\": \"\"\n      }\n    },\n    {\n      \"column\": \"Emma\",\n      \"properties\": {\n        \"dtype\": \"number\",\n        \"std\": 0,\n        \"min\": 0,\n        \"max\": 1,\n        \"num_unique_values\": 2,\n        \"samples\": [\n          0,\n          1\n        ],\n        \"semantic_type\": \"\",\n        \"description\": \"\"\n      }\n    },\n    {\n      \"column\": \"Liz\",\n      \"properties\": {\n        \"dtype\": \"number\",\n        \"std\": 0,\n        \"min\": 0,\n        \"max\": 1,\n        \"num_unique_values\": 2,\n        \"samples\": [\n          1,\n          0\n        ],\n        \"semantic_type\": \"\",\n        \"description\": \"\"\n      }\n    },\n    {\n      \"column\": \"Allen\",\n      \"properties\": {\n        \"dtype\": \"number\",\n        \"std\": 0,\n        \"min\": 0,\n        \"max\": 1,\n        \"num_unique_values\": 2,\n        \"samples\": [\n          1,\n          0\n        ],\n        \"semantic_type\": \"\",\n        \"description\": \"\"\n      }\n    },\n    {\n      \"column\": \"Lisa\",\n      \"properties\": {\n        \"dtype\": \"number\",\n        \"std\": 0,\n        \"min\": 0,\n        \"max\": 1,\n        \"num_unique_values\": 2,\n        \"samples\": [\n          1,\n          0\n        ],\n        \"semantic_type\": \"\",\n        \"description\": \"\"\n      }\n    }\n  ]\n}"
            }
          },
          "metadata": {}
        }
      ]
    },
    {
      "cell_type": "code",
      "source": [
        "degree_centrality = adjacency_matrix.sum(axis=1)/(num_nodes-1)\n",
        "print(degree_centrality)"
      ],
      "metadata": {
        "colab": {
          "base_uri": "https://localhost:8080/"
        },
        "id": "tNMHecbaY7Kc",
        "outputId": "235591bd-ced1-42db-8119-4688d3278412"
      },
      "execution_count": 106,
      "outputs": [
        {
          "output_type": "stream",
          "name": "stdout",
          "text": [
            "Jill     0.666667\n",
            "Mike     0.333333\n",
            "Bob      0.444444\n",
            "John     0.444444\n",
            "Leah     0.333333\n",
            "Shane    0.555556\n",
            "Emma     0.555556\n",
            "Liz      0.333333\n",
            "Allen    0.222222\n",
            "Lisa     0.111111\n",
            "dtype: float64\n"
          ]
        }
      ]
    },
    {
      "cell_type": "markdown",
      "source": [
        "##### Closeness Centrality"
      ],
      "metadata": {
        "id": "QikuofTuWhkm"
      }
    },
    {
      "cell_type": "markdown",
      "source": [
        "The closeness centrality quantifies which nodes are the farthest from other nodes. The greater the number the closer the node is to others. In this case, the distance is quantified by the number of edges or steps needed to traverse from the source to other nodes. It is given by the equation\n",
        "$$\n",
        "C(u) = \\frac{n-1}{\\sum_{v=1}^{n-1}d(v,u)},\n",
        "$$\n",
        "where d(v, u) is the shortest-path distance between v and u, and n-1 is the number of nodes reachable from u"
      ],
      "metadata": {
        "id": "pFTAx_7hWu31"
      }
    },
    {
      "cell_type": "code",
      "source": [
        "Distance = [] #array to store the distances of a source node to other nodes\n",
        "for node in nodes:\n",
        "  dist = nx.shortest_path_length(H, source = node) #gets the distances of one source node to other node\n",
        "  Distance.append(dist) #appends the dist to create a matrix"
      ],
      "metadata": {
        "id": "NnlnXh3jwmKo"
      },
      "execution_count": 107,
      "outputs": []
    },
    {
      "cell_type": "code",
      "source": [
        "closeness = pd.DataFrame(Distance, columns = nodes, index = nodes) #converts the matrix to a dataframe for visualization"
      ],
      "metadata": {
        "id": "b-GLhzrwxz1x"
      },
      "execution_count": 108,
      "outputs": []
    },
    {
      "cell_type": "markdown",
      "source": [
        "At a glance, we see that Lisa has the largest distance from the other nodes. Its distance to Jill, Mike, Bob, John, Leah is equal to 4, which is the diameter of the network."
      ],
      "metadata": {
        "id": "krV04DUSXVLk"
      }
    },
    {
      "cell_type": "code",
      "source": [
        "display(closeness) #visualization"
      ],
      "metadata": {
        "colab": {
          "base_uri": "https://localhost:8080/",
          "height": 363
        },
        "id": "CTOtLd4uyy3H",
        "outputId": "00f5a5f1-ebe8-4be1-e73b-892b29f590ca"
      },
      "execution_count": 109,
      "outputs": [
        {
          "output_type": "display_data",
          "data": {
            "text/plain": [
              "       Jill  Mike  Bob  John  Leah  Shane  Emma  Liz  Allen  Lisa\n",
              "Jill      0     1    1     1     1      1     1    2      3     4\n",
              "Mike      1     0    1     2     2      2     1    2      3     4\n",
              "Bob       1     1    0     1     2      2     1    2      3     4\n",
              "John      1     2    1     0     1      1     2    2      3     4\n",
              "Leah      1     2    2     1     0      1     2    2      3     4\n",
              "Shane     1     2    2     1     1      0     1    1      2     3\n",
              "Emma      1     1    1     2     2      1     0    1      2     3\n",
              "Liz       2     2    2     2     2      1     1    0      1     2\n",
              "Allen     3     3    3     3     3      2     2    1      0     1\n",
              "Lisa      4     4    4     4     4      3     3    2      1     0"
            ],
            "text/html": [
              "\n",
              "  <div id=\"df-0ac20ca5-cb75-4198-a765-e96a9125dee4\" class=\"colab-df-container\">\n",
              "    <div>\n",
              "<style scoped>\n",
              "    .dataframe tbody tr th:only-of-type {\n",
              "        vertical-align: middle;\n",
              "    }\n",
              "\n",
              "    .dataframe tbody tr th {\n",
              "        vertical-align: top;\n",
              "    }\n",
              "\n",
              "    .dataframe thead th {\n",
              "        text-align: right;\n",
              "    }\n",
              "</style>\n",
              "<table border=\"1\" class=\"dataframe\">\n",
              "  <thead>\n",
              "    <tr style=\"text-align: right;\">\n",
              "      <th></th>\n",
              "      <th>Jill</th>\n",
              "      <th>Mike</th>\n",
              "      <th>Bob</th>\n",
              "      <th>John</th>\n",
              "      <th>Leah</th>\n",
              "      <th>Shane</th>\n",
              "      <th>Emma</th>\n",
              "      <th>Liz</th>\n",
              "      <th>Allen</th>\n",
              "      <th>Lisa</th>\n",
              "    </tr>\n",
              "  </thead>\n",
              "  <tbody>\n",
              "    <tr>\n",
              "      <th>Jill</th>\n",
              "      <td>0</td>\n",
              "      <td>1</td>\n",
              "      <td>1</td>\n",
              "      <td>1</td>\n",
              "      <td>1</td>\n",
              "      <td>1</td>\n",
              "      <td>1</td>\n",
              "      <td>2</td>\n",
              "      <td>3</td>\n",
              "      <td>4</td>\n",
              "    </tr>\n",
              "    <tr>\n",
              "      <th>Mike</th>\n",
              "      <td>1</td>\n",
              "      <td>0</td>\n",
              "      <td>1</td>\n",
              "      <td>2</td>\n",
              "      <td>2</td>\n",
              "      <td>2</td>\n",
              "      <td>1</td>\n",
              "      <td>2</td>\n",
              "      <td>3</td>\n",
              "      <td>4</td>\n",
              "    </tr>\n",
              "    <tr>\n",
              "      <th>Bob</th>\n",
              "      <td>1</td>\n",
              "      <td>1</td>\n",
              "      <td>0</td>\n",
              "      <td>1</td>\n",
              "      <td>2</td>\n",
              "      <td>2</td>\n",
              "      <td>1</td>\n",
              "      <td>2</td>\n",
              "      <td>3</td>\n",
              "      <td>4</td>\n",
              "    </tr>\n",
              "    <tr>\n",
              "      <th>John</th>\n",
              "      <td>1</td>\n",
              "      <td>2</td>\n",
              "      <td>1</td>\n",
              "      <td>0</td>\n",
              "      <td>1</td>\n",
              "      <td>1</td>\n",
              "      <td>2</td>\n",
              "      <td>2</td>\n",
              "      <td>3</td>\n",
              "      <td>4</td>\n",
              "    </tr>\n",
              "    <tr>\n",
              "      <th>Leah</th>\n",
              "      <td>1</td>\n",
              "      <td>2</td>\n",
              "      <td>2</td>\n",
              "      <td>1</td>\n",
              "      <td>0</td>\n",
              "      <td>1</td>\n",
              "      <td>2</td>\n",
              "      <td>2</td>\n",
              "      <td>3</td>\n",
              "      <td>4</td>\n",
              "    </tr>\n",
              "    <tr>\n",
              "      <th>Shane</th>\n",
              "      <td>1</td>\n",
              "      <td>2</td>\n",
              "      <td>2</td>\n",
              "      <td>1</td>\n",
              "      <td>1</td>\n",
              "      <td>0</td>\n",
              "      <td>1</td>\n",
              "      <td>1</td>\n",
              "      <td>2</td>\n",
              "      <td>3</td>\n",
              "    </tr>\n",
              "    <tr>\n",
              "      <th>Emma</th>\n",
              "      <td>1</td>\n",
              "      <td>1</td>\n",
              "      <td>1</td>\n",
              "      <td>2</td>\n",
              "      <td>2</td>\n",
              "      <td>1</td>\n",
              "      <td>0</td>\n",
              "      <td>1</td>\n",
              "      <td>2</td>\n",
              "      <td>3</td>\n",
              "    </tr>\n",
              "    <tr>\n",
              "      <th>Liz</th>\n",
              "      <td>2</td>\n",
              "      <td>2</td>\n",
              "      <td>2</td>\n",
              "      <td>2</td>\n",
              "      <td>2</td>\n",
              "      <td>1</td>\n",
              "      <td>1</td>\n",
              "      <td>0</td>\n",
              "      <td>1</td>\n",
              "      <td>2</td>\n",
              "    </tr>\n",
              "    <tr>\n",
              "      <th>Allen</th>\n",
              "      <td>3</td>\n",
              "      <td>3</td>\n",
              "      <td>3</td>\n",
              "      <td>3</td>\n",
              "      <td>3</td>\n",
              "      <td>2</td>\n",
              "      <td>2</td>\n",
              "      <td>1</td>\n",
              "      <td>0</td>\n",
              "      <td>1</td>\n",
              "    </tr>\n",
              "    <tr>\n",
              "      <th>Lisa</th>\n",
              "      <td>4</td>\n",
              "      <td>4</td>\n",
              "      <td>4</td>\n",
              "      <td>4</td>\n",
              "      <td>4</td>\n",
              "      <td>3</td>\n",
              "      <td>3</td>\n",
              "      <td>2</td>\n",
              "      <td>1</td>\n",
              "      <td>0</td>\n",
              "    </tr>\n",
              "  </tbody>\n",
              "</table>\n",
              "</div>\n",
              "    <div class=\"colab-df-buttons\">\n",
              "\n",
              "  <div class=\"colab-df-container\">\n",
              "    <button class=\"colab-df-convert\" onclick=\"convertToInteractive('df-0ac20ca5-cb75-4198-a765-e96a9125dee4')\"\n",
              "            title=\"Convert this dataframe to an interactive table.\"\n",
              "            style=\"display:none;\">\n",
              "\n",
              "  <svg xmlns=\"http://www.w3.org/2000/svg\" height=\"24px\" viewBox=\"0 -960 960 960\">\n",
              "    <path d=\"M120-120v-720h720v720H120Zm60-500h600v-160H180v160Zm220 220h160v-160H400v160Zm0 220h160v-160H400v160ZM180-400h160v-160H180v160Zm440 0h160v-160H620v160ZM180-180h160v-160H180v160Zm440 0h160v-160H620v160Z\"/>\n",
              "  </svg>\n",
              "    </button>\n",
              "\n",
              "  <style>\n",
              "    .colab-df-container {\n",
              "      display:flex;\n",
              "      gap: 12px;\n",
              "    }\n",
              "\n",
              "    .colab-df-convert {\n",
              "      background-color: #E8F0FE;\n",
              "      border: none;\n",
              "      border-radius: 50%;\n",
              "      cursor: pointer;\n",
              "      display: none;\n",
              "      fill: #1967D2;\n",
              "      height: 32px;\n",
              "      padding: 0 0 0 0;\n",
              "      width: 32px;\n",
              "    }\n",
              "\n",
              "    .colab-df-convert:hover {\n",
              "      background-color: #E2EBFA;\n",
              "      box-shadow: 0px 1px 2px rgba(60, 64, 67, 0.3), 0px 1px 3px 1px rgba(60, 64, 67, 0.15);\n",
              "      fill: #174EA6;\n",
              "    }\n",
              "\n",
              "    .colab-df-buttons div {\n",
              "      margin-bottom: 4px;\n",
              "    }\n",
              "\n",
              "    [theme=dark] .colab-df-convert {\n",
              "      background-color: #3B4455;\n",
              "      fill: #D2E3FC;\n",
              "    }\n",
              "\n",
              "    [theme=dark] .colab-df-convert:hover {\n",
              "      background-color: #434B5C;\n",
              "      box-shadow: 0px 1px 3px 1px rgba(0, 0, 0, 0.15);\n",
              "      filter: drop-shadow(0px 1px 2px rgba(0, 0, 0, 0.3));\n",
              "      fill: #FFFFFF;\n",
              "    }\n",
              "  </style>\n",
              "\n",
              "    <script>\n",
              "      const buttonEl =\n",
              "        document.querySelector('#df-0ac20ca5-cb75-4198-a765-e96a9125dee4 button.colab-df-convert');\n",
              "      buttonEl.style.display =\n",
              "        google.colab.kernel.accessAllowed ? 'block' : 'none';\n",
              "\n",
              "      async function convertToInteractive(key) {\n",
              "        const element = document.querySelector('#df-0ac20ca5-cb75-4198-a765-e96a9125dee4');\n",
              "        const dataTable =\n",
              "          await google.colab.kernel.invokeFunction('convertToInteractive',\n",
              "                                                    [key], {});\n",
              "        if (!dataTable) return;\n",
              "\n",
              "        const docLinkHtml = 'Like what you see? Visit the ' +\n",
              "          '<a target=\"_blank\" href=https://colab.research.google.com/notebooks/data_table.ipynb>data table notebook</a>'\n",
              "          + ' to learn more about interactive tables.';\n",
              "        element.innerHTML = '';\n",
              "        dataTable['output_type'] = 'display_data';\n",
              "        await google.colab.output.renderOutput(dataTable, element);\n",
              "        const docLink = document.createElement('div');\n",
              "        docLink.innerHTML = docLinkHtml;\n",
              "        element.appendChild(docLink);\n",
              "      }\n",
              "    </script>\n",
              "  </div>\n",
              "\n",
              "\n",
              "<div id=\"df-b0e01115-b4d2-4257-8ca4-ce30b0a643bd\">\n",
              "  <button class=\"colab-df-quickchart\" onclick=\"quickchart('df-b0e01115-b4d2-4257-8ca4-ce30b0a643bd')\"\n",
              "            title=\"Suggest charts\"\n",
              "            style=\"display:none;\">\n",
              "\n",
              "<svg xmlns=\"http://www.w3.org/2000/svg\" height=\"24px\"viewBox=\"0 0 24 24\"\n",
              "     width=\"24px\">\n",
              "    <g>\n",
              "        <path d=\"M19 3H5c-1.1 0-2 .9-2 2v14c0 1.1.9 2 2 2h14c1.1 0 2-.9 2-2V5c0-1.1-.9-2-2-2zM9 17H7v-7h2v7zm4 0h-2V7h2v10zm4 0h-2v-4h2v4z\"/>\n",
              "    </g>\n",
              "</svg>\n",
              "  </button>\n",
              "\n",
              "<style>\n",
              "  .colab-df-quickchart {\n",
              "      --bg-color: #E8F0FE;\n",
              "      --fill-color: #1967D2;\n",
              "      --hover-bg-color: #E2EBFA;\n",
              "      --hover-fill-color: #174EA6;\n",
              "      --disabled-fill-color: #AAA;\n",
              "      --disabled-bg-color: #DDD;\n",
              "  }\n",
              "\n",
              "  [theme=dark] .colab-df-quickchart {\n",
              "      --bg-color: #3B4455;\n",
              "      --fill-color: #D2E3FC;\n",
              "      --hover-bg-color: #434B5C;\n",
              "      --hover-fill-color: #FFFFFF;\n",
              "      --disabled-bg-color: #3B4455;\n",
              "      --disabled-fill-color: #666;\n",
              "  }\n",
              "\n",
              "  .colab-df-quickchart {\n",
              "    background-color: var(--bg-color);\n",
              "    border: none;\n",
              "    border-radius: 50%;\n",
              "    cursor: pointer;\n",
              "    display: none;\n",
              "    fill: var(--fill-color);\n",
              "    height: 32px;\n",
              "    padding: 0;\n",
              "    width: 32px;\n",
              "  }\n",
              "\n",
              "  .colab-df-quickchart:hover {\n",
              "    background-color: var(--hover-bg-color);\n",
              "    box-shadow: 0 1px 2px rgba(60, 64, 67, 0.3), 0 1px 3px 1px rgba(60, 64, 67, 0.15);\n",
              "    fill: var(--button-hover-fill-color);\n",
              "  }\n",
              "\n",
              "  .colab-df-quickchart-complete:disabled,\n",
              "  .colab-df-quickchart-complete:disabled:hover {\n",
              "    background-color: var(--disabled-bg-color);\n",
              "    fill: var(--disabled-fill-color);\n",
              "    box-shadow: none;\n",
              "  }\n",
              "\n",
              "  .colab-df-spinner {\n",
              "    border: 2px solid var(--fill-color);\n",
              "    border-color: transparent;\n",
              "    border-bottom-color: var(--fill-color);\n",
              "    animation:\n",
              "      spin 1s steps(1) infinite;\n",
              "  }\n",
              "\n",
              "  @keyframes spin {\n",
              "    0% {\n",
              "      border-color: transparent;\n",
              "      border-bottom-color: var(--fill-color);\n",
              "      border-left-color: var(--fill-color);\n",
              "    }\n",
              "    20% {\n",
              "      border-color: transparent;\n",
              "      border-left-color: var(--fill-color);\n",
              "      border-top-color: var(--fill-color);\n",
              "    }\n",
              "    30% {\n",
              "      border-color: transparent;\n",
              "      border-left-color: var(--fill-color);\n",
              "      border-top-color: var(--fill-color);\n",
              "      border-right-color: var(--fill-color);\n",
              "    }\n",
              "    40% {\n",
              "      border-color: transparent;\n",
              "      border-right-color: var(--fill-color);\n",
              "      border-top-color: var(--fill-color);\n",
              "    }\n",
              "    60% {\n",
              "      border-color: transparent;\n",
              "      border-right-color: var(--fill-color);\n",
              "    }\n",
              "    80% {\n",
              "      border-color: transparent;\n",
              "      border-right-color: var(--fill-color);\n",
              "      border-bottom-color: var(--fill-color);\n",
              "    }\n",
              "    90% {\n",
              "      border-color: transparent;\n",
              "      border-bottom-color: var(--fill-color);\n",
              "    }\n",
              "  }\n",
              "</style>\n",
              "\n",
              "  <script>\n",
              "    async function quickchart(key) {\n",
              "      const quickchartButtonEl =\n",
              "        document.querySelector('#' + key + ' button');\n",
              "      quickchartButtonEl.disabled = true;  // To prevent multiple clicks.\n",
              "      quickchartButtonEl.classList.add('colab-df-spinner');\n",
              "      try {\n",
              "        const charts = await google.colab.kernel.invokeFunction(\n",
              "            'suggestCharts', [key], {});\n",
              "      } catch (error) {\n",
              "        console.error('Error during call to suggestCharts:', error);\n",
              "      }\n",
              "      quickchartButtonEl.classList.remove('colab-df-spinner');\n",
              "      quickchartButtonEl.classList.add('colab-df-quickchart-complete');\n",
              "    }\n",
              "    (() => {\n",
              "      let quickchartButtonEl =\n",
              "        document.querySelector('#df-b0e01115-b4d2-4257-8ca4-ce30b0a643bd button');\n",
              "      quickchartButtonEl.style.display =\n",
              "        google.colab.kernel.accessAllowed ? 'block' : 'none';\n",
              "    })();\n",
              "  </script>\n",
              "</div>\n",
              "    </div>\n",
              "  </div>\n"
            ],
            "application/vnd.google.colaboratory.intrinsic+json": {
              "type": "dataframe",
              "variable_name": "closeness",
              "summary": "{\n  \"name\": \"closeness\",\n  \"rows\": 10,\n  \"fields\": [\n    {\n      \"column\": \"Jill\",\n      \"properties\": {\n        \"dtype\": \"number\",\n        \"std\": 1,\n        \"min\": 0,\n        \"max\": 4,\n        \"num_unique_values\": 5,\n        \"samples\": [\n          1,\n          4,\n          2\n        ],\n        \"semantic_type\": \"\",\n        \"description\": \"\"\n      }\n    },\n    {\n      \"column\": \"Mike\",\n      \"properties\": {\n        \"dtype\": \"number\",\n        \"std\": 1,\n        \"min\": 0,\n        \"max\": 4,\n        \"num_unique_values\": 5,\n        \"samples\": [\n          0,\n          4,\n          2\n        ],\n        \"semantic_type\": \"\",\n        \"description\": \"\"\n      }\n    },\n    {\n      \"column\": \"Bob\",\n      \"properties\": {\n        \"dtype\": \"number\",\n        \"std\": 1,\n        \"min\": 0,\n        \"max\": 4,\n        \"num_unique_values\": 5,\n        \"samples\": [\n          0,\n          4,\n          2\n        ],\n        \"semantic_type\": \"\",\n        \"description\": \"\"\n      }\n    },\n    {\n      \"column\": \"John\",\n      \"properties\": {\n        \"dtype\": \"number\",\n        \"std\": 1,\n        \"min\": 0,\n        \"max\": 4,\n        \"num_unique_values\": 5,\n        \"samples\": [\n          2,\n          4,\n          0\n        ],\n        \"semantic_type\": \"\",\n        \"description\": \"\"\n      }\n    },\n    {\n      \"column\": \"Leah\",\n      \"properties\": {\n        \"dtype\": \"number\",\n        \"std\": 1,\n        \"min\": 0,\n        \"max\": 4,\n        \"num_unique_values\": 5,\n        \"samples\": [\n          2,\n          4,\n          0\n        ],\n        \"semantic_type\": \"\",\n        \"description\": \"\"\n      }\n    },\n    {\n      \"column\": \"Shane\",\n      \"properties\": {\n        \"dtype\": \"number\",\n        \"std\": 0,\n        \"min\": 0,\n        \"max\": 3,\n        \"num_unique_values\": 4,\n        \"samples\": [\n          2,\n          3,\n          1\n        ],\n        \"semantic_type\": \"\",\n        \"description\": \"\"\n      }\n    },\n    {\n      \"column\": \"Emma\",\n      \"properties\": {\n        \"dtype\": \"number\",\n        \"std\": 0,\n        \"min\": 0,\n        \"max\": 3,\n        \"num_unique_values\": 4,\n        \"samples\": [\n          2,\n          3,\n          1\n        ],\n        \"semantic_type\": \"\",\n        \"description\": \"\"\n      }\n    },\n    {\n      \"column\": \"Liz\",\n      \"properties\": {\n        \"dtype\": \"number\",\n        \"std\": 0,\n        \"min\": 0,\n        \"max\": 2,\n        \"num_unique_values\": 3,\n        \"samples\": [\n          2,\n          1,\n          0\n        ],\n        \"semantic_type\": \"\",\n        \"description\": \"\"\n      }\n    },\n    {\n      \"column\": \"Allen\",\n      \"properties\": {\n        \"dtype\": \"number\",\n        \"std\": 1,\n        \"min\": 0,\n        \"max\": 3,\n        \"num_unique_values\": 4,\n        \"samples\": [\n          2,\n          0,\n          3\n        ],\n        \"semantic_type\": \"\",\n        \"description\": \"\"\n      }\n    },\n    {\n      \"column\": \"Lisa\",\n      \"properties\": {\n        \"dtype\": \"number\",\n        \"std\": 1,\n        \"min\": 0,\n        \"max\": 4,\n        \"num_unique_values\": 5,\n        \"samples\": [\n          3,\n          0,\n          2\n        ],\n        \"semantic_type\": \"\",\n        \"description\": \"\"\n      }\n    }\n  ]\n}"
            }
          },
          "metadata": {}
        }
      ]
    },
    {
      "cell_type": "code",
      "source": [
        "closeness_centrality = (num_nodes-1)/closeness.sum(axis=1)\n",
        "print(closeness_centrality)"
      ],
      "metadata": {
        "colab": {
          "base_uri": "https://localhost:8080/"
        },
        "id": "TQ03XLNAZFuE",
        "outputId": "80a4da1f-f9e2-4738-8a50-dca7b306685d"
      },
      "execution_count": 110,
      "outputs": [
        {
          "output_type": "stream",
          "name": "stdout",
          "text": [
            "Jill     0.600000\n",
            "Mike     0.500000\n",
            "Bob      0.529412\n",
            "John     0.529412\n",
            "Leah     0.500000\n",
            "Shane    0.642857\n",
            "Emma     0.642857\n",
            "Liz      0.600000\n",
            "Allen    0.428571\n",
            "Lisa     0.310345\n",
            "dtype: float64\n"
          ]
        }
      ]
    },
    {
      "cell_type": "markdown",
      "source": [
        "##### Betweenness Centrality"
      ],
      "metadata": {
        "id": "j51H4hCHXqY9"
      }
    },
    {
      "cell_type": "markdown",
      "source": [
        "Conceptually, the betweenness centrality of a node $i$ is the probability that a shortest simple path from nodes $u$ and $v$ ($u\\to v$) passes through node $i$. It is given by the equation\n",
        "$$\n",
        "C_B(i) = \\sum_{u,v\\in V}\\frac{\\sigma(u,v|i)}{\\sigma(u,v)}\n",
        "$$\n",
        "and normalized to\n",
        "\n",
        "$$\n",
        "C_B(i) = \\sum_{u,v\\in V}\\frac{\\sigma(u,v|i)}{\\sigma(u,v)}×\\frac{2}{(n-1)(n-2)}\n",
        "$$.\n",
        "for undirected networks. $V$ is the set of nodes. The variable `intermediate` refers to node $i$, while the variables `source` and `target` refers to $u$ and $v$ respectively."
      ],
      "metadata": {
        "id": "tkAjjzoXXtW0"
      }
    },
    {
      "cell_type": "code",
      "source": [
        "betweenness = [] #array to store the betweenness of each node\n",
        "#the commented out part of the for loop is used for debugging, it may commented it to follow the steps.\n",
        "#the variables is reffered as follows\n",
        "for intermediate in nodes_array:\n",
        "  # print(f\"Intermediate: {intermediate}\")\n",
        "  # print(f\"----------------------------\")\n",
        "  sigma = 0 #ratio of paths with i over the total number of paths\n",
        "  betweenness_i = 0\n",
        "  for source in nodes_array: #scans through all of the nodes with the exception of the intermediate\n",
        "    if source != intermediate: #to make sure that the intermediate does not act as the source\n",
        "      for target in nodes_array: #scans through all of the nodes with the exception of the intermediate\n",
        "        if target != intermediate:# #to make sure that the intermediate does not act as the target\n",
        "          ipaths = 0 #initializing the paths which passes through the intermediate\n",
        "          paths = 0 #initializing the total number of paths\n",
        "          all_paths = nx.all_shortest_paths(H, source = source, target = target) #gets all the shortest paths from the source to the target\n",
        "          # print(\"======================================\")\n",
        "          # print(f\"Source: {source} Target: {target}\")\n",
        "          for path in all_paths:\n",
        "            paths +=1 #in order to count the number of paths\n",
        "            if intermediate in path:\n",
        "              ipaths += 1 #in order to count the number of ipaths\n",
        "          # print(\"....................................\")\n",
        "          # print(f\"Source to Target Total Paths: {paths}\")\n",
        "          # print(f\"{ipaths} Path Between {source} and {target} containing {intermediate}\")\n",
        "          sigma = ipaths/paths #ratio of paths (the term inside the summation)\n",
        "          betweenness_i+=sigma/2 #summation divided by 2 to compensate for the double counting\n",
        "      #     print(f\"Sigma ======== {sigma}\")\n",
        "      # print(f\"Sigma ======== {sigma}\")\n",
        "  betweenness.append(betweenness_i)\n",
        "\n",
        "#unnormalized betweenness\n",
        "  print(f\"The betweeness of {intermediate} is {betweenness_i}\")\n",
        "betweenness = np.array(betweenness)\n",
        "display(betweenness)"
      ],
      "metadata": {
        "colab": {
          "base_uri": "https://localhost:8080/",
          "height": 236
        },
        "id": "pv3f28aO00p9",
        "outputId": "0cd15a94-4e65-43b6-94da-09e3e06836ef"
      },
      "execution_count": 111,
      "outputs": [
        {
          "output_type": "stream",
          "name": "stdout",
          "text": [
            "The betweeness of Jill is 3.6666666666666665\n",
            "The betweeness of Mike is 0.0\n",
            "The betweeness of Bob is 0.8333333333333333\n",
            "The betweeness of John is 0.8333333333333333\n",
            "The betweeness of Leah is 0.0\n",
            "The betweeness of Shane is 8.333333333333332\n",
            "The betweeness of Emma is 8.333333333333332\n",
            "The betweeness of Liz is 14.0\n",
            "The betweeness of Allen is 8.0\n",
            "The betweeness of Lisa is 0.0\n"
          ]
        },
        {
          "output_type": "display_data",
          "data": {
            "text/plain": [
              "array([ 3.66666667,  0.        ,  0.83333333,  0.83333333,  0.        ,\n",
              "        8.33333333,  8.33333333, 14.        ,  8.        ,  0.        ])"
            ]
          },
          "metadata": {}
        }
      ]
    },
    {
      "cell_type": "code",
      "source": [
        "normalized_betweenness = betweenness*(2/((num_nodes-1)*(num_nodes-2)))#normalization of the betweenness centrality as given by eq\n",
        "print(f\"Normalized betweeness:\\n {normalized_betweenness}\")"
      ],
      "metadata": {
        "colab": {
          "base_uri": "https://localhost:8080/"
        },
        "id": "dzDXDTzIn2r6",
        "outputId": "535f2056-81be-4d27-d22d-6abc4c1a49bd"
      },
      "execution_count": 112,
      "outputs": [
        {
          "output_type": "stream",
          "name": "stdout",
          "text": [
            "Normalized betweeness:\n",
            " [0.10185185 0.         0.02314815 0.02314815 0.         0.23148148\n",
            " 0.23148148 0.38888889 0.22222222 0.        ]\n"
          ]
        }
      ]
    },
    {
      "cell_type": "markdown",
      "source": [
        "#####Table of Centrality Values"
      ],
      "metadata": {
        "id": "JslY14e9Yu8z"
      }
    },
    {
      "cell_type": "markdown",
      "source": [
        "Visualization of the centrality values in a table. From here, we clearly see that Jill is the most \"central\" node, Shane and Emma is the closest to everyone, and Mike, Leah, and Lisa is \"not between\" two nodes."
      ],
      "metadata": {
        "id": "7l9SXdpbZVEH"
      }
    },
    {
      "cell_type": "code",
      "source": [
        "betweenness_centrality = normalized_betweenness\n",
        "centrality = pd.DataFrame({\n",
        "    \"Node\": nodes_array,\n",
        "    \"Degree Centrality\": degree_centrality,\n",
        "    \"Closeness Centrality\": closeness_centrality,\n",
        "    \"Betweenness Centrality\": betweenness_centrality,\n",
        "})\n",
        "display(centrality)"
      ],
      "metadata": {
        "id": "hRycp1zDQTJm",
        "colab": {
          "base_uri": "https://localhost:8080/",
          "height": 363
        },
        "outputId": "8b7d2d32-4a4d-41f5-d1fa-c7a5bb61caf1"
      },
      "execution_count": 113,
      "outputs": [
        {
          "output_type": "display_data",
          "data": {
            "text/plain": [
              "        Node  Degree Centrality  Closeness Centrality  Betweenness Centrality\n",
              "Jill    Jill           0.666667              0.600000                0.101852\n",
              "Mike    Mike           0.333333              0.500000                0.000000\n",
              "Bob      Bob           0.444444              0.529412                0.023148\n",
              "John    John           0.444444              0.529412                0.023148\n",
              "Leah    Leah           0.333333              0.500000                0.000000\n",
              "Shane  Shane           0.555556              0.642857                0.231481\n",
              "Emma    Emma           0.555556              0.642857                0.231481\n",
              "Liz      Liz           0.333333              0.600000                0.388889\n",
              "Allen  Allen           0.222222              0.428571                0.222222\n",
              "Lisa    Lisa           0.111111              0.310345                0.000000"
            ],
            "text/html": [
              "\n",
              "  <div id=\"df-569c72a3-763a-4603-99da-e3a15e790eae\" class=\"colab-df-container\">\n",
              "    <div>\n",
              "<style scoped>\n",
              "    .dataframe tbody tr th:only-of-type {\n",
              "        vertical-align: middle;\n",
              "    }\n",
              "\n",
              "    .dataframe tbody tr th {\n",
              "        vertical-align: top;\n",
              "    }\n",
              "\n",
              "    .dataframe thead th {\n",
              "        text-align: right;\n",
              "    }\n",
              "</style>\n",
              "<table border=\"1\" class=\"dataframe\">\n",
              "  <thead>\n",
              "    <tr style=\"text-align: right;\">\n",
              "      <th></th>\n",
              "      <th>Node</th>\n",
              "      <th>Degree Centrality</th>\n",
              "      <th>Closeness Centrality</th>\n",
              "      <th>Betweenness Centrality</th>\n",
              "    </tr>\n",
              "  </thead>\n",
              "  <tbody>\n",
              "    <tr>\n",
              "      <th>Jill</th>\n",
              "      <td>Jill</td>\n",
              "      <td>0.666667</td>\n",
              "      <td>0.600000</td>\n",
              "      <td>0.101852</td>\n",
              "    </tr>\n",
              "    <tr>\n",
              "      <th>Mike</th>\n",
              "      <td>Mike</td>\n",
              "      <td>0.333333</td>\n",
              "      <td>0.500000</td>\n",
              "      <td>0.000000</td>\n",
              "    </tr>\n",
              "    <tr>\n",
              "      <th>Bob</th>\n",
              "      <td>Bob</td>\n",
              "      <td>0.444444</td>\n",
              "      <td>0.529412</td>\n",
              "      <td>0.023148</td>\n",
              "    </tr>\n",
              "    <tr>\n",
              "      <th>John</th>\n",
              "      <td>John</td>\n",
              "      <td>0.444444</td>\n",
              "      <td>0.529412</td>\n",
              "      <td>0.023148</td>\n",
              "    </tr>\n",
              "    <tr>\n",
              "      <th>Leah</th>\n",
              "      <td>Leah</td>\n",
              "      <td>0.333333</td>\n",
              "      <td>0.500000</td>\n",
              "      <td>0.000000</td>\n",
              "    </tr>\n",
              "    <tr>\n",
              "      <th>Shane</th>\n",
              "      <td>Shane</td>\n",
              "      <td>0.555556</td>\n",
              "      <td>0.642857</td>\n",
              "      <td>0.231481</td>\n",
              "    </tr>\n",
              "    <tr>\n",
              "      <th>Emma</th>\n",
              "      <td>Emma</td>\n",
              "      <td>0.555556</td>\n",
              "      <td>0.642857</td>\n",
              "      <td>0.231481</td>\n",
              "    </tr>\n",
              "    <tr>\n",
              "      <th>Liz</th>\n",
              "      <td>Liz</td>\n",
              "      <td>0.333333</td>\n",
              "      <td>0.600000</td>\n",
              "      <td>0.388889</td>\n",
              "    </tr>\n",
              "    <tr>\n",
              "      <th>Allen</th>\n",
              "      <td>Allen</td>\n",
              "      <td>0.222222</td>\n",
              "      <td>0.428571</td>\n",
              "      <td>0.222222</td>\n",
              "    </tr>\n",
              "    <tr>\n",
              "      <th>Lisa</th>\n",
              "      <td>Lisa</td>\n",
              "      <td>0.111111</td>\n",
              "      <td>0.310345</td>\n",
              "      <td>0.000000</td>\n",
              "    </tr>\n",
              "  </tbody>\n",
              "</table>\n",
              "</div>\n",
              "    <div class=\"colab-df-buttons\">\n",
              "\n",
              "  <div class=\"colab-df-container\">\n",
              "    <button class=\"colab-df-convert\" onclick=\"convertToInteractive('df-569c72a3-763a-4603-99da-e3a15e790eae')\"\n",
              "            title=\"Convert this dataframe to an interactive table.\"\n",
              "            style=\"display:none;\">\n",
              "\n",
              "  <svg xmlns=\"http://www.w3.org/2000/svg\" height=\"24px\" viewBox=\"0 -960 960 960\">\n",
              "    <path d=\"M120-120v-720h720v720H120Zm60-500h600v-160H180v160Zm220 220h160v-160H400v160Zm0 220h160v-160H400v160ZM180-400h160v-160H180v160Zm440 0h160v-160H620v160ZM180-180h160v-160H180v160Zm440 0h160v-160H620v160Z\"/>\n",
              "  </svg>\n",
              "    </button>\n",
              "\n",
              "  <style>\n",
              "    .colab-df-container {\n",
              "      display:flex;\n",
              "      gap: 12px;\n",
              "    }\n",
              "\n",
              "    .colab-df-convert {\n",
              "      background-color: #E8F0FE;\n",
              "      border: none;\n",
              "      border-radius: 50%;\n",
              "      cursor: pointer;\n",
              "      display: none;\n",
              "      fill: #1967D2;\n",
              "      height: 32px;\n",
              "      padding: 0 0 0 0;\n",
              "      width: 32px;\n",
              "    }\n",
              "\n",
              "    .colab-df-convert:hover {\n",
              "      background-color: #E2EBFA;\n",
              "      box-shadow: 0px 1px 2px rgba(60, 64, 67, 0.3), 0px 1px 3px 1px rgba(60, 64, 67, 0.15);\n",
              "      fill: #174EA6;\n",
              "    }\n",
              "\n",
              "    .colab-df-buttons div {\n",
              "      margin-bottom: 4px;\n",
              "    }\n",
              "\n",
              "    [theme=dark] .colab-df-convert {\n",
              "      background-color: #3B4455;\n",
              "      fill: #D2E3FC;\n",
              "    }\n",
              "\n",
              "    [theme=dark] .colab-df-convert:hover {\n",
              "      background-color: #434B5C;\n",
              "      box-shadow: 0px 1px 3px 1px rgba(0, 0, 0, 0.15);\n",
              "      filter: drop-shadow(0px 1px 2px rgba(0, 0, 0, 0.3));\n",
              "      fill: #FFFFFF;\n",
              "    }\n",
              "  </style>\n",
              "\n",
              "    <script>\n",
              "      const buttonEl =\n",
              "        document.querySelector('#df-569c72a3-763a-4603-99da-e3a15e790eae button.colab-df-convert');\n",
              "      buttonEl.style.display =\n",
              "        google.colab.kernel.accessAllowed ? 'block' : 'none';\n",
              "\n",
              "      async function convertToInteractive(key) {\n",
              "        const element = document.querySelector('#df-569c72a3-763a-4603-99da-e3a15e790eae');\n",
              "        const dataTable =\n",
              "          await google.colab.kernel.invokeFunction('convertToInteractive',\n",
              "                                                    [key], {});\n",
              "        if (!dataTable) return;\n",
              "\n",
              "        const docLinkHtml = 'Like what you see? Visit the ' +\n",
              "          '<a target=\"_blank\" href=https://colab.research.google.com/notebooks/data_table.ipynb>data table notebook</a>'\n",
              "          + ' to learn more about interactive tables.';\n",
              "        element.innerHTML = '';\n",
              "        dataTable['output_type'] = 'display_data';\n",
              "        await google.colab.output.renderOutput(dataTable, element);\n",
              "        const docLink = document.createElement('div');\n",
              "        docLink.innerHTML = docLinkHtml;\n",
              "        element.appendChild(docLink);\n",
              "      }\n",
              "    </script>\n",
              "  </div>\n",
              "\n",
              "\n",
              "<div id=\"df-aa0d792a-13f0-4fa5-99d1-2e457bdd9a79\">\n",
              "  <button class=\"colab-df-quickchart\" onclick=\"quickchart('df-aa0d792a-13f0-4fa5-99d1-2e457bdd9a79')\"\n",
              "            title=\"Suggest charts\"\n",
              "            style=\"display:none;\">\n",
              "\n",
              "<svg xmlns=\"http://www.w3.org/2000/svg\" height=\"24px\"viewBox=\"0 0 24 24\"\n",
              "     width=\"24px\">\n",
              "    <g>\n",
              "        <path d=\"M19 3H5c-1.1 0-2 .9-2 2v14c0 1.1.9 2 2 2h14c1.1 0 2-.9 2-2V5c0-1.1-.9-2-2-2zM9 17H7v-7h2v7zm4 0h-2V7h2v10zm4 0h-2v-4h2v4z\"/>\n",
              "    </g>\n",
              "</svg>\n",
              "  </button>\n",
              "\n",
              "<style>\n",
              "  .colab-df-quickchart {\n",
              "      --bg-color: #E8F0FE;\n",
              "      --fill-color: #1967D2;\n",
              "      --hover-bg-color: #E2EBFA;\n",
              "      --hover-fill-color: #174EA6;\n",
              "      --disabled-fill-color: #AAA;\n",
              "      --disabled-bg-color: #DDD;\n",
              "  }\n",
              "\n",
              "  [theme=dark] .colab-df-quickchart {\n",
              "      --bg-color: #3B4455;\n",
              "      --fill-color: #D2E3FC;\n",
              "      --hover-bg-color: #434B5C;\n",
              "      --hover-fill-color: #FFFFFF;\n",
              "      --disabled-bg-color: #3B4455;\n",
              "      --disabled-fill-color: #666;\n",
              "  }\n",
              "\n",
              "  .colab-df-quickchart {\n",
              "    background-color: var(--bg-color);\n",
              "    border: none;\n",
              "    border-radius: 50%;\n",
              "    cursor: pointer;\n",
              "    display: none;\n",
              "    fill: var(--fill-color);\n",
              "    height: 32px;\n",
              "    padding: 0;\n",
              "    width: 32px;\n",
              "  }\n",
              "\n",
              "  .colab-df-quickchart:hover {\n",
              "    background-color: var(--hover-bg-color);\n",
              "    box-shadow: 0 1px 2px rgba(60, 64, 67, 0.3), 0 1px 3px 1px rgba(60, 64, 67, 0.15);\n",
              "    fill: var(--button-hover-fill-color);\n",
              "  }\n",
              "\n",
              "  .colab-df-quickchart-complete:disabled,\n",
              "  .colab-df-quickchart-complete:disabled:hover {\n",
              "    background-color: var(--disabled-bg-color);\n",
              "    fill: var(--disabled-fill-color);\n",
              "    box-shadow: none;\n",
              "  }\n",
              "\n",
              "  .colab-df-spinner {\n",
              "    border: 2px solid var(--fill-color);\n",
              "    border-color: transparent;\n",
              "    border-bottom-color: var(--fill-color);\n",
              "    animation:\n",
              "      spin 1s steps(1) infinite;\n",
              "  }\n",
              "\n",
              "  @keyframes spin {\n",
              "    0% {\n",
              "      border-color: transparent;\n",
              "      border-bottom-color: var(--fill-color);\n",
              "      border-left-color: var(--fill-color);\n",
              "    }\n",
              "    20% {\n",
              "      border-color: transparent;\n",
              "      border-left-color: var(--fill-color);\n",
              "      border-top-color: var(--fill-color);\n",
              "    }\n",
              "    30% {\n",
              "      border-color: transparent;\n",
              "      border-left-color: var(--fill-color);\n",
              "      border-top-color: var(--fill-color);\n",
              "      border-right-color: var(--fill-color);\n",
              "    }\n",
              "    40% {\n",
              "      border-color: transparent;\n",
              "      border-right-color: var(--fill-color);\n",
              "      border-top-color: var(--fill-color);\n",
              "    }\n",
              "    60% {\n",
              "      border-color: transparent;\n",
              "      border-right-color: var(--fill-color);\n",
              "    }\n",
              "    80% {\n",
              "      border-color: transparent;\n",
              "      border-right-color: var(--fill-color);\n",
              "      border-bottom-color: var(--fill-color);\n",
              "    }\n",
              "    90% {\n",
              "      border-color: transparent;\n",
              "      border-bottom-color: var(--fill-color);\n",
              "    }\n",
              "  }\n",
              "</style>\n",
              "\n",
              "  <script>\n",
              "    async function quickchart(key) {\n",
              "      const quickchartButtonEl =\n",
              "        document.querySelector('#' + key + ' button');\n",
              "      quickchartButtonEl.disabled = true;  // To prevent multiple clicks.\n",
              "      quickchartButtonEl.classList.add('colab-df-spinner');\n",
              "      try {\n",
              "        const charts = await google.colab.kernel.invokeFunction(\n",
              "            'suggestCharts', [key], {});\n",
              "      } catch (error) {\n",
              "        console.error('Error during call to suggestCharts:', error);\n",
              "      }\n",
              "      quickchartButtonEl.classList.remove('colab-df-spinner');\n",
              "      quickchartButtonEl.classList.add('colab-df-quickchart-complete');\n",
              "    }\n",
              "    (() => {\n",
              "      let quickchartButtonEl =\n",
              "        document.querySelector('#df-aa0d792a-13f0-4fa5-99d1-2e457bdd9a79 button');\n",
              "      quickchartButtonEl.style.display =\n",
              "        google.colab.kernel.accessAllowed ? 'block' : 'none';\n",
              "    })();\n",
              "  </script>\n",
              "</div>\n",
              "    </div>\n",
              "  </div>\n"
            ],
            "application/vnd.google.colaboratory.intrinsic+json": {
              "type": "dataframe",
              "variable_name": "centrality",
              "summary": "{\n  \"name\": \"centrality\",\n  \"rows\": 10,\n  \"fields\": [\n    {\n      \"column\": \"Node\",\n      \"properties\": {\n        \"dtype\": \"string\",\n        \"num_unique_values\": 10,\n        \"samples\": [\n          \"Allen\",\n          \"Mike\",\n          \"Shane\"\n        ],\n        \"semantic_type\": \"\",\n        \"description\": \"\"\n      }\n    },\n    {\n      \"column\": \"Degree Centrality\",\n      \"properties\": {\n        \"dtype\": \"number\",\n        \"std\": 0.16728281171312911,\n        \"min\": 0.1111111111111111,\n        \"max\": 0.6666666666666666,\n        \"num_unique_values\": 6,\n        \"samples\": [\n          0.6666666666666666,\n          0.3333333333333333,\n          0.1111111111111111\n        ],\n        \"semantic_type\": \"\",\n        \"description\": \"\"\n      }\n    },\n    {\n      \"column\": \"Closeness Centrality\",\n      \"properties\": {\n        \"dtype\": \"number\",\n        \"std\": 0.10305496619859557,\n        \"min\": 0.3103448275862069,\n        \"max\": 0.6428571428571429,\n        \"num_unique_values\": 6,\n        \"samples\": [\n          0.6,\n          0.5,\n          0.3103448275862069\n        ],\n        \"semantic_type\": \"\",\n        \"description\": \"\"\n      }\n    },\n    {\n      \"column\": \"Betweenness Centrality\",\n      \"properties\": {\n        \"dtype\": \"number\",\n        \"std\": 0.13737515289243793,\n        \"min\": 0.0,\n        \"max\": 0.38888888888888884,\n        \"num_unique_values\": 6,\n        \"samples\": [\n          0.10185185185185185,\n          0.0,\n          0.2222222222222222\n        ],\n        \"semantic_type\": \"\",\n        \"description\": \"\"\n      }\n    }\n  ]\n}"
            }
          },
          "metadata": {}
        }
      ]
    },
    {
      "cell_type": "markdown",
      "source": [
        "## PART 3 - Identify communities *(40 points)*\n",
        "\n",
        "1. Identify communities in the social network using *(30 points)*:\n",
        "- Louvain community detection algorithm\n",
        "- Any other community detection algorithm of your choice\n",
        "\n",
        "2. Calculate the modularity of the partitions from the two community detection algorithms. *(10 points)*\n",
        "\n",
        "Briefly describe the algorithm you used and compare the results from the two algorithms."
      ],
      "metadata": {
        "id": "RmD300mBfQQH"
      }
    },
    {
      "cell_type": "code",
      "source": [
        "from community import community_louvain as community_louvain\n",
        "import matplotlib.cm as cm"
      ],
      "metadata": {
        "id": "HUITOjoQba9I"
      },
      "execution_count": 114,
      "outputs": []
    },
    {
      "cell_type": "markdown",
      "source": [
        "To detect the communities, I used Louvain and Girvan-Newman community detection algorithm."
      ],
      "metadata": {
        "id": "zcAD5mRArN9M"
      }
    },
    {
      "cell_type": "markdown",
      "source": [
        "In principle, the **Louvain Community Detection** algorithm is a method based on modularity optimization. It first assigns every node to be a community consisting of itself. Then it moves each node into the neighboring communities, with the aim of getting the maximum possible increase in modularity. If there is no modularity increase, the system remains as is [3]."
      ],
      "metadata": {
        "id": "2gaZFnSbrV9J"
      }
    },
    {
      "cell_type": "markdown",
      "source": [
        "The **Girvan-Newman** algorithm on the other hand detects communities by progressively removing \"important edges\". The removed edge at each step usually has the highest betweenness centrality. The community is then exposed as the graph breaks down."
      ],
      "metadata": {
        "id": "gffYi6Vi1_wO"
      }
    },
    {
      "cell_type": "code",
      "source": [
        "louvain_communities = nx.community.louvain_communities(H, resolution=1)\n",
        "girvan_communities = nx.community.girvan_newman(H)\n"
      ],
      "metadata": {
        "id": "deBmiyRqfYJJ"
      },
      "execution_count": 164,
      "outputs": []
    },
    {
      "cell_type": "markdown",
      "source": [
        "The code below uses the `nx.community.modularity` function of `networkx` to calculate the modularity of the graph after Louvain and Girvan-Newman community detection. The modularity is given by the equation\n",
        "$$\n",
        "Q = \\sum_{c = 1}^n \\left[\\frac{L_c}{m}-\\gamma\\left(\\frac{k_c}{2g}\\right)^2\\right],\n",
        "$$\n",
        "where $c$ pertains to the community, $n$ is the number of communities, $g$ is the number of edges, $L_c$ is the number of links in the community $c$, $k_c$ is the sum of degrees of the nodes, and $\\gamma$ is the resolution parameter [4].\n",
        "For the Girvan-Newman Community detection, the modularity of the network is computed by summing the the modularity of each community identified."
      ],
      "metadata": {
        "id": "WoBp-Nr1277e"
      }
    },
    {
      "cell_type": "code",
      "source": [
        "l_mod = nx.community.modularity(H, louvain_communities) #modularity of the Louvain Communities\n",
        "g_mod = 0 #modularity of the Girvan-Newman Communities\n",
        "no_communities = 0\n",
        "for communities in girvan_communities: #getting the modularity for each community\n",
        "    modularity = nx.community.modularity(H, communities) #calculating the modularity of the community\n",
        "    g_mod+=modularity #modularity of the network\n",
        "print(f\"The modularity of the Louvain Method is {l_mod}\\n\",\n",
        "      f\"The modularity of the Girvan-Newman Method is {g_mod}\")"
      ],
      "metadata": {
        "colab": {
          "base_uri": "https://localhost:8080/"
        },
        "id": "2r-Q77qgiHgV",
        "outputId": "0e5f21f4-a99d-4542-aaa2-730952b49090"
      },
      "execution_count": 165,
      "outputs": [
        {
          "output_type": "stream",
          "name": "stdout",
          "text": [
            "The modularity of the Louvain Method is 0.2222222222222222\n",
            " The modularity of the Girvan-Newman Method is 0.40432098765432095\n"
          ]
        }
      ]
    },
    {
      "cell_type": "markdown",
      "source": [
        "The following code for visualization was taken from [2]. From the image below, we see that the Louvain Community Detection Algorithm identified 3 communities. The purple community involves {Lisa, Allen, Liza} the green community involves {Shane, Leah, John, Jill}, and the yellow community involves {Emma, Bob, Mike}. In the case of the Girvan-Newman algorithm, it detected 2 communities. The green community involves {Lisa, Allen}, while the rest is in the red community."
      ],
      "metadata": {
        "id": "0cdjXui9olIT"
      }
    },
    {
      "cell_type": "code",
      "source": [
        "#Layout for visualization\n",
        "pos = nx.spring_layout(H)\n",
        "fig, axs = plt.subplots(1, 2, figsize=(14, 6))\n",
        "\n",
        "#Louvain community detection\n",
        "louvain_partition = community_louvain.best_partition(H)\n",
        "cmap = cm.get_cmap('viridis', max(louvain_partition.values()) + 1)\n",
        "axs[0].set_title(\"Louvain Community Detection\", fontweight='bold', fontsize=18)\n",
        "nx.draw(H, pos=pos, ax=axs[0], font_color = 'w',node_size=1800, with_labels=True, node_color=[cmap(color) for node, color in louvain_partition.items()])\n",
        "\n",
        "#Girvan-Newman community detection\n",
        "girvan_newman_communities = nx.community.girvan_newman(H)\n",
        "node_groups = list(next(girvan_newman_communities))\n",
        "axs[1].set_title(\"Girvan-Newman Community Detection\", fontweight='bold', fontsize=18)\n",
        "nx.draw(H, pos=pos, ax=axs[1], font_color = 'w',node_size=1800, with_labels=True, node_color=['orangered' if node in node_groups[0] else 'lightseagreen' for node in H.nodes()])\n",
        "\n",
        "plt.tight_layout()\n",
        "plt.show()"
      ],
      "metadata": {
        "colab": {
          "base_uri": "https://localhost:8080/",
          "height": 663
        },
        "id": "QOFasVPTiYm6",
        "outputId": "15b2a043-922b-4dc7-a5de-9dc8acdb9e78"
      },
      "execution_count": 157,
      "outputs": [
        {
          "output_type": "stream",
          "name": "stderr",
          "text": [
            "<ipython-input-157-48b4b16d0c3a>:7: MatplotlibDeprecationWarning: The get_cmap function was deprecated in Matplotlib 3.7 and will be removed two minor releases later. Use ``matplotlib.colormaps[name]`` or ``matplotlib.colormaps.get_cmap(obj)`` instead.\n",
            "  cmap = cm.get_cmap('viridis', max(louvain_partition.values()) + 1)\n"
          ]
        },
        {
          "output_type": "display_data",
          "data": {
            "text/plain": [
              "<Figure size 1400x600 with 2 Axes>"
            ],
            "image/png": "[encoded data removed]"
          },
          "metadata": {}
        }
      ]
    },
    {
      "cell_type": "markdown",
      "source": [
        "#### References:\n",
        "[1] https://networkx.org/documentation/stable/index.html\n",
        "\n",
        "[2] https://memgraph.com/blog/community-detection-algorithms-with-python-networkx\n",
        "\n",
        "[3] https://networkx.org/documentation/stable/reference/algorithms/generated/\n",
        "networkx.algorithms.community.louvain.louvain_communities.html\n",
        "\n",
        "[4] https://networkx.org/documentation/stable/reference/algorithms/generated/networkx.algorithms.community.quality.modularity.html"
      ],
      "metadata": {
        "id": "o3UBKpteowIc"
      }
    }
  ]
}