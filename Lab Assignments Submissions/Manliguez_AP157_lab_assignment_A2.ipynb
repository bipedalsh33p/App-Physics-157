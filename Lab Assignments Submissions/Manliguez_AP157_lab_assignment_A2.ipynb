{
  "nbformat": 4,
  "nbformat_minor": 0,
  "metadata": {
    "colab": {
      "provenance": []
    },
    "kernelspec": {
      "name": "python3",
      "display_name": "Python 3"
    }
  },
  "cells": [
    {
      "cell_type": "markdown",
      "metadata": {
        "id": "ST5d6dw3dLZh"
      },
      "source": [
        "# **AP157 Machine Learning Lab Assignment**\n",
        "## Module A.2: Classification -- Morphological Classification of Galaxies using Decision Trees\n",
        "\n",
        "_Instructions_: Answer each part of the assignment as completely as you can. Discuss **all** your code and results as clearly and concisely as possible.\n",
        "\n",
        "_Scoring Criteria_: 50% - *correctness of code*; 50% - *discussion of the code and results*. Maximum score is **100 points** (Parts 1, 2, and 3 are worth 20, 40, and 40 points, respectively).\n",
        "\n",
        "_Credits_: This assignment is based on the Week 6 module of the Coursera course \"Data-driven Astronomy\", \"Exploring machine learning classification\" ([link](https://www.coursera.org/learn/data-driven-astronomy/home/welcome))"
      ]
    },
    {
      "cell_type": "markdown",
      "metadata": {
        "id": "iZZaEzKHdVYG"
      },
      "source": [
        "### Student Information\n",
        "\n",
        "_Full Name (Last Name, First Name)_: \\ Manliguez, Sean Arthur\n",
        "_Student No._:\\ 2020-07582\n",
        "_Section_: TX - 2"
      ]
    },
    {
      "cell_type": "markdown",
      "metadata": {
        "id": "Xv1STpPodaDL"
      },
      "source": [
        "### Submission Information\n",
        "\n",
        "_Date and Time Submitted (most recent upload)_:\n",
        "\n",
        "**HONOR PLEDGE** I affirm that I have upheld the highest principles of honesty and integrity in my academic work and that this lab assignment is my own work.\n",
        "\n",
        "**Sign here with your full name:**"
      ]
    },
    {
      "cell_type": "markdown",
      "metadata": {
        "id": "8zw1kC_rdoHT"
      },
      "source": [
        "### Grading Information (c/o Instructor)\n",
        "\n",
        "TOTAL SCORE: **[]**/100\n",
        "\n",
        "Score breakdown:\n",
        "* Part 1 - []/20\n",
        "* Part 2 - []/40\n",
        "* Part 3 - []/40\n",
        "\n",
        "_Date and Time Scored (MM/DD/YYYY HH:MM AM/PM):_"
      ]
    },
    {
      "cell_type": "markdown",
      "metadata": {
        "id": "UNaYs-MfeDRl"
      },
      "source": [
        "For this assignment, you will work with galaxy data from the\n",
        "Sloan Digital Sky Survey (SDSS). First, you need to make a copy of the binary file ```galaxy_catalogue.npy``` and save it to a folder in your **own Google Drive**. This file is available from the AP157 Machine Learning Google Drive (under the Datasets folder).\n",
        "\n",
        "The code cells below will (1) mount your Google Drive and (2) load ```galaxy_catalogue.npy``` from your Google Drive folder."
      ]
    },
    {
      "cell_type": "markdown",
      "metadata": {
        "id": "ee1mHlUWfcsc"
      },
      "source": [
        "Mount the Google Drive where you saved the .npy file.\n",
        "\n",
        "When you run this cell, you will be asked to sign in to your Google account and you will get an authorization code. Paste the code on the provided cell to mount the Google Drive."
      ]
    },
    {
      "cell_type": "code",
      "metadata": {
        "id": "yH0IOwb1YBHc",
        "colab": {
          "base_uri": "https://localhost:8080/"
        },
        "outputId": "c2ec69cc-0c70-49db-9824-874f79886375"
      },
      "source": [
        "from google.colab import drive\n",
        "drive.mount(\"/content/drive\")"
      ],
      "execution_count": 1,
      "outputs": [
        {
          "output_type": "stream",
          "name": "stdout",
          "text": [
            "Drive already mounted at /content/drive; to attempt to forcibly remount, call drive.mount(\"/content/drive\", force_remount=True).\n"
          ]
        }
      ]
    },
    {
      "cell_type": "markdown",
      "metadata": {
        "id": "k0C5c-8ofqDu"
      },
      "source": [
        "Run this command to list the directories in your Google Drive and check that the mount was successful."
      ]
    },
    {
      "cell_type": "code",
      "metadata": {
        "id": "mzKLlj20fsJu"
      },
      "source": [
        "#!ls drive/My\\ Drive"
      ],
      "execution_count": 2,
      "outputs": []
    },
    {
      "cell_type": "markdown",
      "metadata": {
        "id": "XPLuh_jWfju8"
      },
      "source": [
        "Define the directory path to the location of the file, i.e. if it is in a\n",
        "folder named \"AP157\" under My Drive, then the file path will be \"/content/drive/My Drive/AP157\". Change the string variable in the code cell below, as needed:"
      ]
    },
    {
      "cell_type": "code",
      "metadata": {
        "id": "jRpIuwdigDg5"
      },
      "source": [
        "file_path = \"/content/drive/My Drive/AP157/Datasets/\""
      ],
      "execution_count": 3,
      "outputs": []
    },
    {
      "cell_type": "markdown",
      "metadata": {
        "id": "VW7RFRGaik-6"
      },
      "source": [
        "Now, we can load the file using $\\tt numpy$'s $\\tt load$ function below.\n",
        "\n",
        "\n",
        "\n"
      ]
    },
    {
      "cell_type": "code",
      "metadata": {
        "id": "y61tYmPIimUv"
      },
      "source": [
        "import numpy as np\n",
        "\n",
        "data = np.load(file_path + 'galaxy_catalogue.npy')"
      ],
      "execution_count": 4,
      "outputs": []
    },
    {
      "cell_type": "markdown",
      "metadata": {
        "id": "HpXP16UfWHQK"
      },
      "source": [
        "Print out the first couple of rows. Note that the columns are: $u-g$, $g-r$, $r-i$, $i-z$, eccentricity, $m_u$, $m_g$, $m_r$, $m_i$, $m_z$, $R_{50,u}$, $R_{50,r}$, $R_{50,z}$, $R_{90,u}$, $R_{90,r}$, $R_{90,z}$, and class."
      ]
    },
    {
      "cell_type": "code",
      "metadata": {
        "id": "HbQiDjyIWsjr",
        "colab": {
          "base_uri": "https://localhost:8080/"
        },
        "outputId": "73f4c7bd-5d4d-4d18-fc00-00d628e7dcbd"
      },
      "source": [
        "data[:2]"
      ],
      "execution_count": 5,
      "outputs": [
        {
          "output_type": "execute_result",
          "data": {
            "text/plain": [
              "array([(1.85765, 0.67158, 0.4231 , 0.3061 , 0.5854284, 2.251946, 2.339849, 2.380652, 2.359738, 2.395528, 3.095123, 3.818919, 3.82623 , 5.174814, 8.263009, 11.47734 , 'merger'),\n",
              "       (1.74259, 0.86085, 0.44927, 0.28851, 0.7498125, 2.031566, 2.084156, 2.092272, 2.124075, 2.133154, 1.430436, 1.422533, 1.385727, 3.732712, 3.416921,  3.330347, 'merger')],\n",
              "      dtype=[('u-g', '<f8'), ('g-r', '<f8'), ('r-i', '<f8'), ('i-z', '<f8'), ('ecc', '<f8'), ('m4_u', '<f8'), ('m4_g', '<f8'), ('m4_r', '<f8'), ('m4_i', '<f8'), ('m4_z', '<f8'), ('petroR50_u', '<f8'), ('petroR50_r', '<f8'), ('petroR50_z', '<f8'), ('petroR90_u', '<f8'), ('petroR90_r', '<f8'), ('petroR90_z', '<f8'), ('class', '<U20')])"
            ]
          },
          "metadata": {},
          "execution_count": 5
        }
      ]
    },
    {
      "cell_type": "markdown",
      "metadata": {
        "id": "_eq2V7xzFtq7"
      },
      "source": [
        "#### PART 1 - Get features and targets *(20 pts.)*\n",
        "\n",
        "Write a function ```get_features_targets``` that splits the dataset into input features and their corresponding targets. In our case, the inputs are the 4 galaxy colors ($u-g$, $g-r$, $r-i$, and $i-z$), eccentricity, $ugriz$ magnitudes, and concentrations $R_{50}/R_{90}$ in the $u$, $r$, and $z$ bands. The targets are the classes.\n",
        "\n",
        "Here's an example of how your function should work:\n",
        "```\n",
        ">>> features, targets = get_features_targets(data)\n",
        ">>> print(\"Features shape:\", features.shape\n",
        ">>> print(\"Targets shape:\", targets.shape)\n",
        "Features shape: (780, 13)\n",
        "Targets shape: (780,)\n",
        "```"
      ]
    },
    {
      "cell_type": "code",
      "source": [
        "import numpy as np\n",
        "import pandas as pd\n",
        "from sklearn import tree\n",
        "from sklearn.tree import DecisionTreeClassifier\n",
        "from sklearn.model_selection import train_test_split\n",
        "import matplotlib.pyplot as plt"
      ],
      "metadata": {
        "id": "nnoCEiJ6L1Vq"
      },
      "execution_count": 6,
      "outputs": []
    },
    {
      "cell_type": "code",
      "source": [
        "def get_features_targets(data):\n",
        "  df1 = pd.DataFrame(data)\n",
        "  #df1['u_concentration'] = df1['petroR50_u']/df1['petroR90_u']\n",
        "  df1.insert(10, 'u_concentration',df1['petroR50_u']/df1['petroR90_u'])\n",
        "  df1.insert(11, 'r_concentration',df1['petroR50_r']/df1['petroR90_r'])\n",
        "  df1.insert(12, 'z_concentration',df1['petroR50_z']/df1['petroR90_z'])\n",
        "  features = df1.iloc[:, 0:13]\n",
        "  targets = df1.iloc[:,-1]\n",
        "  return df1, features, targets"
      ],
      "metadata": {
        "id": "T6ps-6G5B_76"
      },
      "execution_count": 7,
      "outputs": []
    },
    {
      "cell_type": "code",
      "metadata": {
        "id": "mfMtufdukBnu",
        "colab": {
          "base_uri": "https://localhost:8080/",
          "height": 423
        },
        "outputId": "190e8161-27a9-4062-8506-4687f2d3da69"
      },
      "source": [
        "df1, features, targets = get_features_targets(data)\n",
        "display(features)\n",
        "# display(df1)\n",
        "# print(features.shape)\n",
        "# print(targets.shape)"
      ],
      "execution_count": 8,
      "outputs": [
        {
          "output_type": "display_data",
          "data": {
            "text/plain": [
              "         u-g      g-r      r-i      i-z       ecc      m4_u      m4_g  \\\n",
              "0    1.85765  0.67158  0.42310  0.30610  0.585428  2.251946  2.339849   \n",
              "1    1.74259  0.86085  0.44927  0.28851  0.749812  2.031566  2.084156   \n",
              "2    2.10697  0.96710  0.56810  0.33747  0.630089  1.992887  2.450746   \n",
              "3    1.22840  0.60446  0.39049  0.28913  0.668999  2.056115  2.182252   \n",
              "4    1.80792  0.78124  0.45528  0.35067  0.500170  2.259167  2.194723   \n",
              "..       ...      ...      ...      ...       ...       ...       ...   \n",
              "775  1.34594  0.64285  0.37813  0.23107  0.779956  2.421518  2.248886   \n",
              "776  1.19482  0.49611  0.31017  0.16244  0.722125  2.211442  2.294102   \n",
              "777  1.21489  0.57253  0.35423  0.21312  0.793392  2.264709  2.319192   \n",
              "778  1.41797  0.86460  0.40020  0.35307  0.835901  2.011354  2.023669   \n",
              "779  1.49346  0.86623  0.43432  0.31509  0.490623  2.387251  2.529668   \n",
              "\n",
              "         m4_r      m4_i      m4_z  u_concentration  r_concentration  \\\n",
              "0    2.380652  2.359738  2.395528         0.598113         0.462170   \n",
              "1    2.092272  2.124075  2.133154         0.383216         0.416320   \n",
              "2    2.473116  2.465324  2.438683         0.340249         0.433751   \n",
              "3    2.309510  2.391414  2.472397         0.378602         0.333005   \n",
              "4    2.264567  2.334713  2.352568         0.353735         0.322113   \n",
              "..        ...       ...       ...              ...              ...   \n",
              "775  2.589488  2.615007  2.601444         0.428644         0.472435   \n",
              "776  2.327795  2.371559  2.358487         0.519802         0.415303   \n",
              "777  2.388157  2.392148  2.384103         0.484092         0.434376   \n",
              "778  2.326873  2.676343  2.560389         0.334817         0.546294   \n",
              "779  2.525753  2.490839  2.487824         0.552011         0.414435   \n",
              "\n",
              "     z_concentration  \n",
              "0           0.333373  \n",
              "1           0.416091  \n",
              "2           0.307428  \n",
              "3           0.314361  \n",
              "4           0.339692  \n",
              "..               ...  \n",
              "775         0.437152  \n",
              "776         0.390645  \n",
              "777         0.465523  \n",
              "778         0.479873  \n",
              "779         0.402464  \n",
              "\n",
              "[780 rows x 13 columns]"
            ],
            "text/html": [
              "\n",
              "  <div id=\"df-12e80243-e14a-40c9-bc8a-768471f520c4\" class=\"colab-df-container\">\n",
              "    <div>\n",
              "<style scoped>\n",
              "    .dataframe tbody tr th:only-of-type {\n",
              "        vertical-align: middle;\n",
              "    }\n",
              "\n",
              "    .dataframe tbody tr th {\n",
              "        vertical-align: top;\n",
              "    }\n",
              "\n",
              "    .dataframe thead th {\n",
              "        text-align: right;\n",
              "    }\n",
              "</style>\n",
              "<table border=\"1\" class=\"dataframe\">\n",
              "  <thead>\n",
              "    <tr style=\"text-align: right;\">\n",
              "      <th></th>\n",
              "      <th>u-g</th>\n",
              "      <th>g-r</th>\n",
              "      <th>r-i</th>\n",
              "      <th>i-z</th>\n",
              "      <th>ecc</th>\n",
              "      <th>m4_u</th>\n",
              "      <th>m4_g</th>\n",
              "      <th>m4_r</th>\n",
              "      <th>m4_i</th>\n",
              "      <th>m4_z</th>\n",
              "      <th>u_concentration</th>\n",
              "      <th>r_concentration</th>\n",
              "      <th>z_concentration</th>\n",
              "    </tr>\n",
              "  </thead>\n",
              "  <tbody>\n",
              "    <tr>\n",
              "      <th>0</th>\n",
              "      <td>1.85765</td>\n",
              "      <td>0.67158</td>\n",
              "      <td>0.42310</td>\n",
              "      <td>0.30610</td>\n",
              "      <td>0.585428</td>\n",
              "      <td>2.251946</td>\n",
              "      <td>2.339849</td>\n",
              "      <td>2.380652</td>\n",
              "      <td>2.359738</td>\n",
              "      <td>2.395528</td>\n",
              "      <td>0.598113</td>\n",
              "      <td>0.462170</td>\n",
              "      <td>0.333373</td>\n",
              "    </tr>\n",
              "    <tr>\n",
              "      <th>1</th>\n",
              "      <td>1.74259</td>\n",
              "      <td>0.86085</td>\n",
              "      <td>0.44927</td>\n",
              "      <td>0.28851</td>\n",
              "      <td>0.749812</td>\n",
              "      <td>2.031566</td>\n",
              "      <td>2.084156</td>\n",
              "      <td>2.092272</td>\n",
              "      <td>2.124075</td>\n",
              "      <td>2.133154</td>\n",
              "      <td>0.383216</td>\n",
              "      <td>0.416320</td>\n",
              "      <td>0.416091</td>\n",
              "    </tr>\n",
              "    <tr>\n",
              "      <th>2</th>\n",
              "      <td>2.10697</td>\n",
              "      <td>0.96710</td>\n",
              "      <td>0.56810</td>\n",
              "      <td>0.33747</td>\n",
              "      <td>0.630089</td>\n",
              "      <td>1.992887</td>\n",
              "      <td>2.450746</td>\n",
              "      <td>2.473116</td>\n",
              "      <td>2.465324</td>\n",
              "      <td>2.438683</td>\n",
              "      <td>0.340249</td>\n",
              "      <td>0.433751</td>\n",
              "      <td>0.307428</td>\n",
              "    </tr>\n",
              "    <tr>\n",
              "      <th>3</th>\n",
              "      <td>1.22840</td>\n",
              "      <td>0.60446</td>\n",
              "      <td>0.39049</td>\n",
              "      <td>0.28913</td>\n",
              "      <td>0.668999</td>\n",
              "      <td>2.056115</td>\n",
              "      <td>2.182252</td>\n",
              "      <td>2.309510</td>\n",
              "      <td>2.391414</td>\n",
              "      <td>2.472397</td>\n",
              "      <td>0.378602</td>\n",
              "      <td>0.333005</td>\n",
              "      <td>0.314361</td>\n",
              "    </tr>\n",
              "    <tr>\n",
              "      <th>4</th>\n",
              "      <td>1.80792</td>\n",
              "      <td>0.78124</td>\n",
              "      <td>0.45528</td>\n",
              "      <td>0.35067</td>\n",
              "      <td>0.500170</td>\n",
              "      <td>2.259167</td>\n",
              "      <td>2.194723</td>\n",
              "      <td>2.264567</td>\n",
              "      <td>2.334713</td>\n",
              "      <td>2.352568</td>\n",
              "      <td>0.353735</td>\n",
              "      <td>0.322113</td>\n",
              "      <td>0.339692</td>\n",
              "    </tr>\n",
              "    <tr>\n",
              "      <th>...</th>\n",
              "      <td>...</td>\n",
              "      <td>...</td>\n",
              "      <td>...</td>\n",
              "      <td>...</td>\n",
              "      <td>...</td>\n",
              "      <td>...</td>\n",
              "      <td>...</td>\n",
              "      <td>...</td>\n",
              "      <td>...</td>\n",
              "      <td>...</td>\n",
              "      <td>...</td>\n",
              "      <td>...</td>\n",
              "      <td>...</td>\n",
              "    </tr>\n",
              "    <tr>\n",
              "      <th>775</th>\n",
              "      <td>1.34594</td>\n",
              "      <td>0.64285</td>\n",
              "      <td>0.37813</td>\n",
              "      <td>0.23107</td>\n",
              "      <td>0.779956</td>\n",
              "      <td>2.421518</td>\n",
              "      <td>2.248886</td>\n",
              "      <td>2.589488</td>\n",
              "      <td>2.615007</td>\n",
              "      <td>2.601444</td>\n",
              "      <td>0.428644</td>\n",
              "      <td>0.472435</td>\n",
              "      <td>0.437152</td>\n",
              "    </tr>\n",
              "    <tr>\n",
              "      <th>776</th>\n",
              "      <td>1.19482</td>\n",
              "      <td>0.49611</td>\n",
              "      <td>0.31017</td>\n",
              "      <td>0.16244</td>\n",
              "      <td>0.722125</td>\n",
              "      <td>2.211442</td>\n",
              "      <td>2.294102</td>\n",
              "      <td>2.327795</td>\n",
              "      <td>2.371559</td>\n",
              "      <td>2.358487</td>\n",
              "      <td>0.519802</td>\n",
              "      <td>0.415303</td>\n",
              "      <td>0.390645</td>\n",
              "    </tr>\n",
              "    <tr>\n",
              "      <th>777</th>\n",
              "      <td>1.21489</td>\n",
              "      <td>0.57253</td>\n",
              "      <td>0.35423</td>\n",
              "      <td>0.21312</td>\n",
              "      <td>0.793392</td>\n",
              "      <td>2.264709</td>\n",
              "      <td>2.319192</td>\n",
              "      <td>2.388157</td>\n",
              "      <td>2.392148</td>\n",
              "      <td>2.384103</td>\n",
              "      <td>0.484092</td>\n",
              "      <td>0.434376</td>\n",
              "      <td>0.465523</td>\n",
              "    </tr>\n",
              "    <tr>\n",
              "      <th>778</th>\n",
              "      <td>1.41797</td>\n",
              "      <td>0.86460</td>\n",
              "      <td>0.40020</td>\n",
              "      <td>0.35307</td>\n",
              "      <td>0.835901</td>\n",
              "      <td>2.011354</td>\n",
              "      <td>2.023669</td>\n",
              "      <td>2.326873</td>\n",
              "      <td>2.676343</td>\n",
              "      <td>2.560389</td>\n",
              "      <td>0.334817</td>\n",
              "      <td>0.546294</td>\n",
              "      <td>0.479873</td>\n",
              "    </tr>\n",
              "    <tr>\n",
              "      <th>779</th>\n",
              "      <td>1.49346</td>\n",
              "      <td>0.86623</td>\n",
              "      <td>0.43432</td>\n",
              "      <td>0.31509</td>\n",
              "      <td>0.490623</td>\n",
              "      <td>2.387251</td>\n",
              "      <td>2.529668</td>\n",
              "      <td>2.525753</td>\n",
              "      <td>2.490839</td>\n",
              "      <td>2.487824</td>\n",
              "      <td>0.552011</td>\n",
              "      <td>0.414435</td>\n",
              "      <td>0.402464</td>\n",
              "    </tr>\n",
              "  </tbody>\n",
              "</table>\n",
              "<p>780 rows × 13 columns</p>\n",
              "</div>\n",
              "    <div class=\"colab-df-buttons\">\n",
              "\n",
              "  <div class=\"colab-df-container\">\n",
              "    <button class=\"colab-df-convert\" onclick=\"convertToInteractive('df-12e80243-e14a-40c9-bc8a-768471f520c4')\"\n",
              "            title=\"Convert this dataframe to an interactive table.\"\n",
              "            style=\"display:none;\">\n",
              "\n",
              "  <svg xmlns=\"http://www.w3.org/2000/svg\" height=\"24px\" viewBox=\"0 -960 960 960\">\n",
              "    <path d=\"M120-120v-720h720v720H120Zm60-500h600v-160H180v160Zm220 220h160v-160H400v160Zm0 220h160v-160H400v160ZM180-400h160v-160H180v160Zm440 0h160v-160H620v160ZM180-180h160v-160H180v160Zm440 0h160v-160H620v160Z\"/>\n",
              "  </svg>\n",
              "    </button>\n",
              "\n",
              "  <style>\n",
              "    .colab-df-container {\n",
              "      display:flex;\n",
              "      gap: 12px;\n",
              "    }\n",
              "\n",
              "    .colab-df-convert {\n",
              "      background-color: #E8F0FE;\n",
              "      border: none;\n",
              "      border-radius: 50%;\n",
              "      cursor: pointer;\n",
              "      display: none;\n",
              "      fill: #1967D2;\n",
              "      height: 32px;\n",
              "      padding: 0 0 0 0;\n",
              "      width: 32px;\n",
              "    }\n",
              "\n",
              "    .colab-df-convert:hover {\n",
              "      background-color: #E2EBFA;\n",
              "      box-shadow: 0px 1px 2px rgba(60, 64, 67, 0.3), 0px 1px 3px 1px rgba(60, 64, 67, 0.15);\n",
              "      fill: #174EA6;\n",
              "    }\n",
              "\n",
              "    .colab-df-buttons div {\n",
              "      margin-bottom: 4px;\n",
              "    }\n",
              "\n",
              "    [theme=dark] .colab-df-convert {\n",
              "      background-color: #3B4455;\n",
              "      fill: #D2E3FC;\n",
              "    }\n",
              "\n",
              "    [theme=dark] .colab-df-convert:hover {\n",
              "      background-color: #434B5C;\n",
              "      box-shadow: 0px 1px 3px 1px rgba(0, 0, 0, 0.15);\n",
              "      filter: drop-shadow(0px 1px 2px rgba(0, 0, 0, 0.3));\n",
              "      fill: #FFFFFF;\n",
              "    }\n",
              "  </style>\n",
              "\n",
              "    <script>\n",
              "      const buttonEl =\n",
              "        document.querySelector('#df-12e80243-e14a-40c9-bc8a-768471f520c4 button.colab-df-convert');\n",
              "      buttonEl.style.display =\n",
              "        google.colab.kernel.accessAllowed ? 'block' : 'none';\n",
              "\n",
              "      async function convertToInteractive(key) {\n",
              "        const element = document.querySelector('#df-12e80243-e14a-40c9-bc8a-768471f520c4');\n",
              "        const dataTable =\n",
              "          await google.colab.kernel.invokeFunction('convertToInteractive',\n",
              "                                                    [key], {});\n",
              "        if (!dataTable) return;\n",
              "\n",
              "        const docLinkHtml = 'Like what you see? Visit the ' +\n",
              "          '<a target=\"_blank\" href=https://colab.research.google.com/notebooks/data_table.ipynb>data table notebook</a>'\n",
              "          + ' to learn more about interactive tables.';\n",
              "        element.innerHTML = '';\n",
              "        dataTable['output_type'] = 'display_data';\n",
              "        await google.colab.output.renderOutput(dataTable, element);\n",
              "        const docLink = document.createElement('div');\n",
              "        docLink.innerHTML = docLinkHtml;\n",
              "        element.appendChild(docLink);\n",
              "      }\n",
              "    </script>\n",
              "  </div>\n",
              "\n",
              "\n",
              "<div id=\"df-cc34ffc5-3631-4a23-9c42-373a4f97852d\">\n",
              "  <button class=\"colab-df-quickchart\" onclick=\"quickchart('df-cc34ffc5-3631-4a23-9c42-373a4f97852d')\"\n",
              "            title=\"Suggest charts\"\n",
              "            style=\"display:none;\">\n",
              "\n",
              "<svg xmlns=\"http://www.w3.org/2000/svg\" height=\"24px\"viewBox=\"0 0 24 24\"\n",
              "     width=\"24px\">\n",
              "    <g>\n",
              "        <path d=\"M19 3H5c-1.1 0-2 .9-2 2v14c0 1.1.9 2 2 2h14c1.1 0 2-.9 2-2V5c0-1.1-.9-2-2-2zM9 17H7v-7h2v7zm4 0h-2V7h2v10zm4 0h-2v-4h2v4z\"/>\n",
              "    </g>\n",
              "</svg>\n",
              "  </button>\n",
              "\n",
              "<style>\n",
              "  .colab-df-quickchart {\n",
              "      --bg-color: #E8F0FE;\n",
              "      --fill-color: #1967D2;\n",
              "      --hover-bg-color: #E2EBFA;\n",
              "      --hover-fill-color: #174EA6;\n",
              "      --disabled-fill-color: #AAA;\n",
              "      --disabled-bg-color: #DDD;\n",
              "  }\n",
              "\n",
              "  [theme=dark] .colab-df-quickchart {\n",
              "      --bg-color: #3B4455;\n",
              "      --fill-color: #D2E3FC;\n",
              "      --hover-bg-color: #434B5C;\n",
              "      --hover-fill-color: #FFFFFF;\n",
              "      --disabled-bg-color: #3B4455;\n",
              "      --disabled-fill-color: #666;\n",
              "  }\n",
              "\n",
              "  .colab-df-quickchart {\n",
              "    background-color: var(--bg-color);\n",
              "    border: none;\n",
              "    border-radius: 50%;\n",
              "    cursor: pointer;\n",
              "    display: none;\n",
              "    fill: var(--fill-color);\n",
              "    height: 32px;\n",
              "    padding: 0;\n",
              "    width: 32px;\n",
              "  }\n",
              "\n",
              "  .colab-df-quickchart:hover {\n",
              "    background-color: var(--hover-bg-color);\n",
              "    box-shadow: 0 1px 2px rgba(60, 64, 67, 0.3), 0 1px 3px 1px rgba(60, 64, 67, 0.15);\n",
              "    fill: var(--button-hover-fill-color);\n",
              "  }\n",
              "\n",
              "  .colab-df-quickchart-complete:disabled,\n",
              "  .colab-df-quickchart-complete:disabled:hover {\n",
              "    background-color: var(--disabled-bg-color);\n",
              "    fill: var(--disabled-fill-color);\n",
              "    box-shadow: none;\n",
              "  }\n",
              "\n",
              "  .colab-df-spinner {\n",
              "    border: 2px solid var(--fill-color);\n",
              "    border-color: transparent;\n",
              "    border-bottom-color: var(--fill-color);\n",
              "    animation:\n",
              "      spin 1s steps(1) infinite;\n",
              "  }\n",
              "\n",
              "  @keyframes spin {\n",
              "    0% {\n",
              "      border-color: transparent;\n",
              "      border-bottom-color: var(--fill-color);\n",
              "      border-left-color: var(--fill-color);\n",
              "    }\n",
              "    20% {\n",
              "      border-color: transparent;\n",
              "      border-left-color: var(--fill-color);\n",
              "      border-top-color: var(--fill-color);\n",
              "    }\n",
              "    30% {\n",
              "      border-color: transparent;\n",
              "      border-left-color: var(--fill-color);\n",
              "      border-top-color: var(--fill-color);\n",
              "      border-right-color: var(--fill-color);\n",
              "    }\n",
              "    40% {\n",
              "      border-color: transparent;\n",
              "      border-right-color: var(--fill-color);\n",
              "      border-top-color: var(--fill-color);\n",
              "    }\n",
              "    60% {\n",
              "      border-color: transparent;\n",
              "      border-right-color: var(--fill-color);\n",
              "    }\n",
              "    80% {\n",
              "      border-color: transparent;\n",
              "      border-right-color: var(--fill-color);\n",
              "      border-bottom-color: var(--fill-color);\n",
              "    }\n",
              "    90% {\n",
              "      border-color: transparent;\n",
              "      border-bottom-color: var(--fill-color);\n",
              "    }\n",
              "  }\n",
              "</style>\n",
              "\n",
              "  <script>\n",
              "    async function quickchart(key) {\n",
              "      const quickchartButtonEl =\n",
              "        document.querySelector('#' + key + ' button');\n",
              "      quickchartButtonEl.disabled = true;  // To prevent multiple clicks.\n",
              "      quickchartButtonEl.classList.add('colab-df-spinner');\n",
              "      try {\n",
              "        const charts = await google.colab.kernel.invokeFunction(\n",
              "            'suggestCharts', [key], {});\n",
              "      } catch (error) {\n",
              "        console.error('Error during call to suggestCharts:', error);\n",
              "      }\n",
              "      quickchartButtonEl.classList.remove('colab-df-spinner');\n",
              "      quickchartButtonEl.classList.add('colab-df-quickchart-complete');\n",
              "    }\n",
              "    (() => {\n",
              "      let quickchartButtonEl =\n",
              "        document.querySelector('#df-cc34ffc5-3631-4a23-9c42-373a4f97852d button');\n",
              "      quickchartButtonEl.style.display =\n",
              "        google.colab.kernel.accessAllowed ? 'block' : 'none';\n",
              "    })();\n",
              "  </script>\n",
              "</div>\n",
              "    </div>\n",
              "  </div>\n"
            ],
            "application/vnd.google.colaboratory.intrinsic+json": {
              "type": "dataframe",
              "variable_name": "features",
              "summary": "{\n  \"name\": \"features\",\n  \"rows\": 780,\n  \"fields\": [\n    {\n      \"column\": \"u-g\",\n      \"properties\": {\n        \"dtype\": \"number\",\n        \"std\": 0.6802411828127287,\n        \"min\": -8.20235,\n        \"max\": 10.62404,\n        \"num_unique_values\": 778,\n        \"samples\": [\n          1.2701100000000025,\n          1.9628999999999976,\n          1.2575900000000004\n        ],\n        \"semantic_type\": \"\",\n        \"description\": \"\"\n      }\n    },\n    {\n      \"column\": \"g-r\",\n      \"properties\": {\n        \"dtype\": \"number\",\n        \"std\": 0.3339863093568199,\n        \"min\": -4.708600000000001,\n        \"max\": 1.5391700000000021,\n        \"num_unique_values\": 780,\n        \"samples\": [\n          0.5050699999999999,\n          0.6847599999999989,\n          0.35076000000000107\n        ],\n        \"semantic_type\": \"\",\n        \"description\": \"\"\n      }\n    },\n    {\n      \"column\": \"r-i\",\n      \"properties\": {\n        \"dtype\": \"number\",\n        \"std\": 0.09490179168729385,\n        \"min\": -0.630589999999998,\n        \"max\": 1.3908400000000007,\n        \"num_unique_values\": 776,\n        \"samples\": [\n          0.42179000000000144,\n          0.40371000000000024,\n          0.4024200000000011\n        ],\n        \"semantic_type\": \"\",\n        \"description\": \"\"\n      }\n    },\n    {\n      \"column\": \"i-z\",\n      \"properties\": {\n        \"dtype\": \"number\",\n        \"std\": 0.43436930730905415,\n        \"min\": -7.698339999999998,\n        \"max\": 4.8793299999999995,\n        \"num_unique_values\": 770,\n        \"samples\": [\n          0.20819999999999972,\n          0.3356400000000015,\n          0.2223600000000001\n        ],\n        \"semantic_type\": \"\",\n        \"description\": \"\"\n      }\n    },\n    {\n      \"column\": \"ecc\",\n      \"properties\": {\n        \"dtype\": \"number\",\n        \"std\": 0.17101032432451688,\n        \"min\": 0.2268939,\n        \"max\": 0.999812,\n        \"num_unique_values\": 780,\n        \"samples\": [\n          0.8168555,\n          0.7072662,\n          0.6651152\n        ],\n        \"semantic_type\": \"\",\n        \"description\": \"\"\n      }\n    },\n    {\n      \"column\": \"m4_u\",\n      \"properties\": {\n        \"dtype\": \"number\",\n        \"std\": 619.4543959860013,\n        \"min\": -9999.0,\n        \"max\": 26.00938,\n        \"num_unique_values\": 778,\n        \"samples\": [\n          2.19869,\n          2.213931,\n          2.28284\n        ],\n        \"semantic_type\": \"\",\n        \"description\": \"\"\n      }\n    },\n    {\n      \"column\": \"m4_g\",\n      \"properties\": {\n        \"dtype\": \"number\",\n        \"std\": 358.1048419577499,\n        \"min\": -9999.0,\n        \"max\": 2.724017,\n        \"num_unique_values\": 779,\n        \"samples\": [\n          2.250672,\n          2.494824,\n          2.391655\n        ],\n        \"semantic_type\": \"\",\n        \"description\": \"\"\n      }\n    },\n    {\n      \"column\": \"m4_r\",\n      \"properties\": {\n        \"dtype\": \"number\",\n        \"std\": 506.11363472801435,\n        \"min\": -9999.0,\n        \"max\": 2.737767,\n        \"num_unique_values\": 779,\n        \"samples\": [\n          2.443063,\n          2.642474,\n          2.478868\n        ],\n        \"semantic_type\": \"\",\n        \"description\": \"\"\n      }\n    },\n    {\n      \"column\": \"m4_i\",\n      \"properties\": {\n        \"dtype\": \"number\",\n        \"std\": 619.4626616402447,\n        \"min\": -9999.0,\n        \"max\": 2.728628,\n        \"num_unique_values\": 777,\n        \"samples\": [\n          2.518643,\n          2.263255,\n          2.454253\n        ],\n        \"semantic_type\": \"\",\n        \"description\": \"\"\n      }\n    },\n    {\n      \"column\": \"m4_z\",\n      \"properties\": {\n        \"dtype\": \"number\",\n        \"std\": 714.8335970071514,\n        \"min\": -9999.0,\n        \"max\": 2.730472,\n        \"num_unique_values\": 775,\n        \"samples\": [\n          2.359071,\n          2.535141,\n          2.427377\n        ],\n        \"semantic_type\": \"\",\n        \"description\": \"\"\n      }\n    },\n    {\n      \"column\": \"u_concentration\",\n      \"properties\": {\n        \"dtype\": \"number\",\n        \"std\": 0.11663698573114256,\n        \"min\": 0.09014586568693947,\n        \"max\": 1.0,\n        \"num_unique_values\": 777,\n        \"samples\": [\n          0.6037315580167624,\n          0.5493164819133215,\n          0.5538302520351095\n        ],\n        \"semantic_type\": \"\",\n        \"description\": \"\"\n      }\n    },\n    {\n      \"column\": \"r_concentration\",\n      \"properties\": {\n        \"dtype\": \"number\",\n        \"std\": 0.0831449038130222,\n        \"min\": 0.1187715956543745,\n        \"max\": 0.8687146675388523,\n        \"num_unique_values\": 780,\n        \"samples\": [\n          0.5074307966380414,\n          0.44837889924000857,\n          0.42198274961724697\n        ],\n        \"semantic_type\": \"\",\n        \"description\": \"\"\n      }\n    },\n    {\n      \"column\": \"z_concentration\",\n      \"properties\": {\n        \"dtype\": \"number\",\n        \"std\": 0.09577541372128875,\n        \"min\": 0.168760795763578,\n        \"max\": 1.0,\n        \"num_unique_values\": 778,\n        \"samples\": [\n          0.4810153892963501,\n          0.47202113621764363,\n          0.5058425558718274\n        ],\n        \"semantic_type\": \"\",\n        \"description\": \"\"\n      }\n    }\n  ]\n}"
            }
          },
          "metadata": {}
        }
      ]
    },
    {
      "cell_type": "markdown",
      "metadata": {
        "id": "vnePPYpJNWoY"
      },
      "source": [
        "#### PART 2 - Train and run a decision tree model *(40 pts.)*\n",
        "\n",
        "Write a function ```predict_class``` that will train and validate a model that predicts a galaxy's class from its photometric properties. In particular, it should do the following:\n",
        "1. Split the dataset into a training and test dataset using an 80:20 split.\n",
        "2. Train the input model using the training dataset features and targets.\n",
        "3. Return two arrays-- the predicted and actual class of the test galaxies.\n",
        "\n",
        "Here's an example of how your function should work:\n",
        "```\n",
        "import numpy as np\n",
        "from sklearn.tree import DecisionTreeClassifier\n",
        "\n",
        "data = np.load(file_path + 'galaxy_catalogue.npy')\n",
        "predicted_class, actual_class = predict_class(data)\n",
        "\n",
        "for i in np.arange(3):\n",
        "   print(\"%d, %s, %s\" & (i, predicted_class[i], actual_class[i]))\n",
        "```"
      ]
    },
    {
      "cell_type": "code",
      "metadata": {
        "id": "ydeUh_Tzvf0n"
      },
      "source": [
        "def predict_class(data):\n",
        "  X = features\n",
        "  Y = targets\n",
        "  X_train, X_test, Y_train, Y_test = train_test_split(X, Y, test_size=0.20, random_state=0)\n",
        "  clf = tree.DecisionTreeClassifier(random_state = 0)\n",
        "  clf = clf.fit(X_train, Y_train)\n",
        "  predicted_value = clf.predict(X_test)\n",
        "  #print(predicted_value)\n",
        "  actual_class = Y_test.to_numpy()\n",
        "  return predicted_value, actual_class, clf"
      ],
      "execution_count": 9,
      "outputs": []
    },
    {
      "cell_type": "code",
      "source": [
        "predicted_class, actual_class, clf = predict_class(data)\n",
        "predicted_class[1]\n",
        "for i in np.arange(2):\n",
        "  print(\"%d, %s, %s\" % (i, predicted_class[i], actual_class[i]))\n"
      ],
      "metadata": {
        "colab": {
          "base_uri": "https://localhost:8080/"
        },
        "id": "ZUF2rPyJHwGQ",
        "outputId": "f12bc0df-382b-40c6-e099-6d7199553a8e"
      },
      "execution_count": 10,
      "outputs": [
        {
          "output_type": "stream",
          "name": "stdout",
          "text": [
            "0, spiral, spiral\n",
            "1, elliptical, elliptical\n"
          ]
        }
      ]
    },
    {
      "cell_type": "markdown",
      "metadata": {
        "id": "hlSp5k92OjuM"
      },
      "source": [
        "#### PART 3 - Confusion matrix and accuracy *(40 pts.)*\n",
        "\n",
        "1. Get the confusion matrix for your test dataset-- this is a 3 x 3 matrix with the counts for each combination of actual and predicted class. *(25 pts.)*\n",
        "\n",
        "2. Get the test accuracy of your decision tree classifer, defined as the number of correct predictions divided by the total number of predictions. *(15 pts.)*"
      ]
    },
    {
      "cell_type": "code",
      "metadata": {
        "id": "OZXvnOSLdH_k"
      },
      "source": [
        "from sklearn import metrics"
      ],
      "execution_count": 11,
      "outputs": []
    },
    {
      "cell_type": "code",
      "source": [
        "confusion_matrix = metrics.confusion_matrix(actual_class, predicted_class, labels = clf.classes_)\n",
        "cm_display = metrics.ConfusionMatrixDisplay(confusion_matrix = confusion_matrix, display_labels = clf.classes_)"
      ],
      "metadata": {
        "id": "I5mNiT_SQlaX"
      },
      "execution_count": 21,
      "outputs": []
    },
    {
      "cell_type": "code",
      "source": [
        "cm_display.plot()\n",
        "plt.show()\n",
        "print(confusion_matrix)"
      ],
      "metadata": {
        "colab": {
          "base_uri": "https://localhost:8080/",
          "height": 510
        },
        "id": "SxBubTv3Q2Ky",
        "outputId": "db8fd41e-5d27-421f-b7bd-718154fcc042"
      },
      "execution_count": 23,
      "outputs": [
        {
          "output_type": "display_data",
          "data": {
            "text/plain": [
              "<Figure size 640x480 with 2 Axes>"
            ],
            "image/png": "[encoded data removed]"
          },
          "metadata": {}
        },
        {
          "output_type": "stream",
          "name": "stdout",
          "text": [
            "[[45  6  2]\n",
            " [ 7 35  6]\n",
            " [ 0 10 45]]\n"
          ]
        }
      ]
    },
    {
      "cell_type": "code",
      "source": [
        "matches = predicted_class == actual_class\n",
        "accuracy = matches.sum()/predicted_class.shape\n",
        "print(accuracy)"
      ],
      "metadata": {
        "colab": {
          "base_uri": "https://localhost:8080/"
        },
        "id": "fuLWbviRU1Ft",
        "outputId": "44f120f8-4456-44fa-9e7f-f4478f09a0f8"
      },
      "execution_count": 26,
      "outputs": [
        {
          "output_type": "stream",
          "name": "stdout",
          "text": [
            "[0.80128205]\n"
          ]
        }
      ]
    },
    {
      "cell_type": "markdown",
      "source": [
        "# TRIALS"
      ],
      "metadata": {
        "id": "rhbk7Lf2YrNZ"
      }
    },
    {
      "cell_type": "code",
      "source": [
        "from sklearn.datasets import load_iris\n",
        "from sklearn import tree\n",
        "iris = load_iris()\n",
        "X, y = iris.data, iris.target\n",
        "clf = tree.DecisionTreeClassifier()\n",
        "clf = clf.fit(X, y)\n",
        "tree.plot_tree(clf)"
      ],
      "metadata": {
        "id": "CYHjCNgyYvO_"
      },
      "execution_count": null,
      "outputs": []
    }
  ]
}